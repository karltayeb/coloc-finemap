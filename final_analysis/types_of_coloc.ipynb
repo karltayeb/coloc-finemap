{
 "cells": [
  {
   "cell_type": "markdown",
   "metadata": {},
   "source": [
    "# Types of coloc"
   ]
  },
  {
   "cell_type": "code",
   "execution_count": 2,
   "metadata": {},
   "outputs": [],
   "source": [
    "import numpy as np\n",
    "import pandas as pd\n",
    "from tqdm import tqdm\n",
    "import pickle\n",
    "\n",
    "import matplotlib.pyplot as plt\n",
    "import seaborn as sns\n",
    "from itertools import combinations\n",
    "from joblib import Parallel, delayed\n",
    "import os\n",
    "import itertools\n",
    "\n",
    "# load data\n",
    "def load_model(gene, decompress=True, rel='../'):\n",
    "    p = gene2path.get(gene)\n",
    "    m = pickle.load(open(rel + p, 'rb'))\n",
    "    if decompress:\n",
    "        m._decompress_model()\n",
    "    return m\n",
    "\n",
    "def load_active(gene, rel='../'):\n",
    "    p = gene2path.get(gene)\n",
    "    m = pickle.load(open(rel + p, 'rb'))\n",
    "    df = pd.DataFrame(m.active, index=m.study_ids)\n",
    "    return df\n",
    "\n",
    "def load_variant_report(gene, rel='../'):\n",
    "    p = rel + gene2path.get(gene) + '.variant_report'\n",
    "    df = pd.read_csv(p, sep='\\t')\n",
    "    return df\n",
    "        \n",
    "        \n",
    "\n",
    "# generate coloc table \n",
    "def coloc_maxmin(model):\n",
    "    return pd.DataFrame([{'t1': model.study_ids[i], \n",
    "      't2': model.study_ids[j], \n",
    "      'maxmin': model.active[[i, j]].min(0).max()} for i, j in combinations(range(model.dims['T']), 2)])\n",
    "\n",
    "def coloc_topmin(model):\n",
    "    # get top component for each study\n",
    "    top = (\n",
    "        ((model.weight_means / np.sqrt(model.weight_vars)) * model.pi[None]).sum(2) * model.active\n",
    "    ).argmax(1)\n",
    "    return pd.DataFrame([{\n",
    "        't1': model.study_ids[i], \n",
    "        't2': model.study_ids[j],\n",
    "        't1_top': top[i],\n",
    "        't2_top': top[j],\n",
    "        'topmin': model.active[[i, j]].min(0)[top[i]] * (top[i] == top[j])}\n",
    "        for i, j in combinations(range(model.dims['T']), 2)])\n",
    "\n",
    "def coloc_table_fn(gene):\n",
    "    try:\n",
    "        m = load_model(gene, decompress=True)\n",
    "        a = coloc_maxmin(m)\n",
    "        b = coloc_topmin(m)\n",
    "        result = a.set_index(['t1','t2']).join(b.set_index(['t1','t2'])).reset_index()\n",
    "        result.loc[:, 'gene'] = gene\n",
    "    except Exception as e:\n",
    "        result = None\n",
    "    return result\n",
    "\n",
    "def coloc_table_chunk(genes):\n",
    "    return [coloc_table_fn(g) for g in genes]\n",
    "\n",
    "\n",
    "#  helper\n",
    "def chunks(lst, n):\n",
    "    \"\"\"Yield successive n-sized chunks from lst.\"\"\"\n",
    "    for i in range(0, len(lst), n):\n",
    "        yield lst[i:i + n]\n",
    "\n",
    "model_paths = np.loadtxt('../output/requests/GTEx_cafeh_genotype_ss.txt', dtype=str)\n",
    "vr_paths = np.loadtxt('../output/requests/GTEx_cafeh_genotype_ss_variant_reports.txt', dtype=str)\n",
    "gene2path = {p.split('/')[3]: p for p in model_paths} "
   ]
  },
  {
   "cell_type": "code",
   "execution_count": 11,
   "metadata": {},
   "outputs": [],
   "source": [
    "genes = list(gene2path.keys())\n",
    "result = Parallel(n_jobs=4)(delayed(coloc_table_chunk)(g) for g in tqdm(list(chunks(genes, 100))))\n",
    "Result = list(itertools.chain(*result))\n",
    "Result = [g for g in Result if r is not None]\n",
    "\n",
    "if not os.path.isfile('coloc.csv'):\n",
    "    for i in tqdm(range(len(Result))):\n",
    "        Result[i].to_csv('coloc.csv', mode='a', header=False)"
   ]
  },
  {
   "cell_type": "code",
   "execution_count": 3,
   "metadata": {},
   "outputs": [
    {
     "name": "stderr",
     "output_type": "stream",
     "text": [
      "/home-3/ktayeb1@jhu.edu/.local/lib/python3.6/site-packages/numpy/lib/arraysetops.py:568: FutureWarning: elementwise comparison failed; returning scalar instead, but in the future will perform elementwise comparison\n",
      "  mask |= (ar1 == a)\n"
     ]
    }
   ],
   "source": [
    "p_coloc = pd.read_csv('coloc.csv', header=None, index_col=0)\n",
    "p_coloc.columns = ['t1', 't2', 'maxmin', 't1_top' , 't2_top', 'topmin', 'gene']"
   ]
  },
  {
   "cell_type": "code",
   "execution_count": 4,
   "metadata": {},
   "outputs": [
    {
     "data": {
      "text/plain": [
       "[Text(0.5, 0, 'Proportion of Expressed Tissue Pairs')]"
      ]
     },
     "execution_count": 4,
     "metadata": {},
     "output_type": "execute_result"
    },
    {
     "data": {
      "image/png": "[encoded data removed]",
      "text/plain": [
       "<Figure size 1008x432 with 4 Axes>"
      ]
     },
     "metadata": {
      "needs_background": "light"
     },
     "output_type": "display_data"
    }
   ],
   "source": [
    "import matplotlib.pyplot as plt\n",
    "\n",
    "SMALL_SIZE = 8\n",
    "MEDIUM_SIZE = 12\n",
    "BIGGER_SIZE = 16\n",
    "\n",
    "plt.rc('font', size=SMALL_SIZE)          # controls default text sizes\n",
    "plt.rc('axes', titlesize=BIGGER_SIZE)     # fontsize of the axes title\n",
    "plt.rc('axes', labelsize=MEDIUM_SIZE)    # fontsize of the x and y labels\n",
    "plt.rc('xtick', labelsize=SMALL_SIZE)    # fontsize of the tick labels\n",
    "plt.rc('ytick', labelsize=SMALL_SIZE)    # fontsize of the tick labels\n",
    "plt.rc('legend', fontsize=SMALL_SIZE)    # legend fontsize\n",
    "plt.rc('figure', titlesize=BIGGER_SIZE)  # fontsize of the figure title\n",
    "\n",
    "a = np.array([[2, 0, 0], [1, 0.5, 3]])\n",
    "b = np.array([[0, 3, 1], [1, 2, 0]])\n",
    "c = np.array([[3, 2, 1], [2, 1, 3]])\n",
    "\n",
    "thresh = 0.5\n",
    "p_coloc_any = p_coloc.groupby('gene').apply(lambda x: np.mean(x.maxmin > thresh))\n",
    "p_coloc_top = p_coloc.groupby('gene').apply(lambda x: np.mean(x.topmin > thresh))\n",
    "\n",
    "\n",
    "fig11 = plt.figure(figsize=(14, 6), constrained_layout=False)\n",
    "gs = fig11.add_gridspec(2,3, wspace=0.5, hspace=0.2)\n",
    "\n",
    "ax = plt.subplot(gs[0, 0])\n",
    "sns.heatmap(a, cmap='Blues', vmin=0, vmax=3, ax=ax, cbar=False)\n",
    "ax.set(xlabel = 'Causal Variant', ylabel = 'Study')\n",
    "ax.set_title('Colocalization in Any Component')\n",
    "\n",
    "ax = plt.subplot(gs[0, 1])\n",
    "sns.heatmap(b, cmap='Blues', vmin=0, vmax=3, ax=ax, cbar=False)\n",
    "ax.set(xlabel = 'Causal Variant', ylabel = 'Study')\n",
    "ax.set_title('Colocalization in Top Component')\n",
    "\n",
    "ax = plt.subplot(gs[1, 0])\n",
    "ax.hist(p_coloc_any[p_coloc_any >= 0])\n",
    "ax.spines['right'].set_visible(False)\n",
    "ax.spines['top'].set_visible(False)\n",
    "ax.set(xlabel='Proportion of Expressed Tissue Pairs', ylabel='Genes')\n",
    "\n",
    "ax = plt.subplot(gs[1, 1])\n",
    "ax.hist(p_coloc_top[p_coloc_top >= 0])\n",
    "ax.spines['right'].set_visible(False)\n",
    "ax.spines['top'].set_visible(False)\n",
    "ax.set(xlabel='Proportion of Expressed Tissue Pairs')"
   ]
  }
 ],
 "metadata": {
  "kernelspec": {
   "display_name": "Python [conda env:cafeh-env]",
   "language": "python",
   "name": "conda-env-cafeh-env-py"
  },
  "language_info": {
   "codemirror_mode": {
    "name": "ipython",
    "version": 3
   },
   "file_extension": ".py",
   "mimetype": "text/x-python",
   "name": "python",
   "nbconvert_exporter": "python",
   "pygments_lexer": "ipython3",
   "version": "3.6.10"
  }
 },
 "nbformat": 4,
 "nbformat_minor": 2
}
