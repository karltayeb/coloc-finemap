{
 "cells": [
  {
   "cell_type": "markdown",
   "metadata": {},
   "source": [
    "# Types of coloc"
   ]
  },
  {
   "cell_type": "code",
   "execution_count": 2,
   "metadata": {},
   "outputs": [],
   "source": [
    "import numpy as np\n",
    "import pandas as pd\n",
    "from tqdm import tqdm\n",
    "import pickle\n",
    "\n",
    "import matplotlib.pyplot as plt\n",
    "import seaborn as sns\n",
    "from itertools import combinations\n",
    "from joblib import Parallel, delayed\n",
    "import os\n",
    "import itertools\n",
    "\n",
    "# load data\n",
    "def load_model(gene, decompress=True, rel='../'):\n",
    "    p = gene2path.get(gene)\n",
    "    m = pickle.load(open(rel + p, 'rb'))\n",
    "    if decompress:\n",
    "        m._decompress_model()\n",
    "    return m\n",
    "\n",
    "def load_active(gene, rel='../'):\n",
    "    p = gene2path.get(gene)\n",
    "    m = pickle.load(open(rel + p, 'rb'))\n",
    "    df = pd.DataFrame(m.active, index=m.study_ids)\n",
    "    return df\n",
    "\n",
    "def load_variant_report(gene, rel='../'):\n",
    "    p = rel + gene2path.get(gene) + '.variant_report'\n",
    "    df = pd.read_csv(p, sep='\\t')\n",
    "    return df\n",
    "        \n",
    "        \n",
    "\n",
    "# generate coloc table \n",
    "def coloc_maxmin(model):\n",
    "    return pd.DataFrame([{'t1': model.study_ids[i], \n",
    "      't2': model.study_ids[j], \n",
    "      'maxmin': model.active[[i, j]].min(0).max()} for i, j in combinations(range(model.dims['T']), 2)])\n",
    "\n",
    "def coloc_topmin(model):\n",
    "    # get top component for each study\n",
    "    top = (\n",
    "        ((model.weight_means / np.sqrt(model.weight_vars)) * model.pi[None]).sum(2) * model.active\n",
    "    ).argmax(1)\n",
    "    return pd.DataFrame([{\n",
    "        't1': model.study_ids[i], \n",
    "        't2': model.study_ids[j],\n",
    "        't1_top': top[i],\n",
    "        't2_top': top[j],\n",
    "        'topmin': model.active[[i, j]].min(0)[top[i]] * (top[i] == top[j])}\n",
    "        for i, j in combinations(range(model.dims['T']), 2)])\n",
    "\n",
    "def coloc_table_fn(gene):\n",
    "    try:\n",
    "        m = load_model(gene, decompress=True)\n",
    "        a = coloc_maxmin(m)\n",
    "        b = coloc_topmin(m)\n",
    "        result = a.set_index(['t1','t2']).join(b.set_index(['t1','t2'])).reset_index()\n",
    "        result.loc[:, 'gene'] = gene\n",
    "    except Exception as e:\n",
    "        result = None\n",
    "    return result\n",
    "\n",
    "def coloc_table_chunk(genes):\n",
    "    return [coloc_table_fn(g) for g in genes]\n",
    "\n",
    "\n",
    "#  helper\n",
    "def chunks(lst, n):\n",
    "    \"\"\"Yield successive n-sized chunks from lst.\"\"\"\n",
    "    for i in range(0, len(lst), n):\n",
    "        yield lst[i:i + n]\n",
    "\n",
    "model_paths = np.loadtxt('../output/requests/GTEx_cafeh_genotype_ss.txt', dtype=str)\n",
    "vr_paths = np.loadtxt('../output/requests/GTEx_cafeh_genotype_ss_variant_reports.txt', dtype=str)\n",
    "gene2path = {p.split('/')[3]: p for p in model_paths} "
   ]
  },
  {
   "cell_type": "code",
   "execution_count": 11,
   "metadata": {},
   "outputs": [],
   "source": [
    "genes = list(gene2path.keys())\n",
    "result = Parallel(n_jobs=4)(delayed(coloc_table_chunk)(g) for g in tqdm(list(chunks(genes, 100))))\n",
    "Result = list(itertools.chain(*result))\n",
    "Result = [g for g in Result if r is not None]\n",
    "\n",
    "for i in tqdm(range(len(Result))):\n",
    "    Result[i].to_csv('coloc.csv', mode='a', header=False)"
   ]
  },
  {
   "cell_type": "code",
   "execution_count": 3,
   "metadata": {},
   "outputs": [
    {
     "name": "stderr",
     "output_type": "stream",
     "text": [
      "/home-3/ktayeb1@jhu.edu/.local/lib/python3.6/site-packages/numpy/lib/arraysetops.py:568: FutureWarning: elementwise comparison failed; returning scalar instead, but in the future will perform elementwise comparison\n",
      "  mask |= (ar1 == a)\n"
     ]
    }
   ],
   "source": [
    "p_coloc = pd.read_csv('coloc.csv', header=None, index_col=0)\n",
    "p_coloc.columns = ['t1', 't2', 'maxmin', 't1_top' , 't2_top', 'topmin', 'gene']"
   ]
  },
  {
   "cell_type": "code",
   "execution_count": 4,
   "metadata": {},
   "outputs": [
    {
     "data": {
      "text/plain": [
       "[Text(0.5, 0, 'Proportion of Expressed Tissue Pairs')]"
      ]
     },
     "execution_count": 4,
     "metadata": {},
     "output_type": "execute_result"
    },
    {
     "data": {
      "image/png": "[encoded data removed]",
      "text/plain": [
       "<Figure size 1008x432 with 4 Axes>"
      ]
     },
     "metadata": {
      "needs_background": "light"
     },
     "output_type": "display_data"
    }
   ],
   "source": [
    "import matplotlib.pyplot as plt\n",
    "\n",
    "SMALL_SIZE = 8\n",
    "MEDIUM_SIZE = 12\n",
    "BIGGER_SIZE = 16\n",
    "\n",
    "plt.rc('font', size=SMALL_SIZE)          # controls default text sizes\n",
    "plt.rc('axes', titlesize=BIGGER_SIZE)     # fontsize of the axes title\n",
    "plt.rc('axes', labelsize=MEDIUM_SIZE)    # fontsize of the x and y labels\n",
    "plt.rc('xtick', labelsize=SMALL_SIZE)    # fontsize of the tick labels\n",
    "plt.rc('ytick', labelsize=SMALL_SIZE)    # fontsize of the tick labels\n",
    "plt.rc('legend', fontsize=SMALL_SIZE)    # legend fontsize\n",
    "plt.rc('figure', titlesize=BIGGER_SIZE)  # fontsize of the figure title\n",
    "\n",
    "a = np.array([[2, 0, 0], [1, 0.5, 3]])\n",
    "b = np.array([[0, 3, 1], [1, 2, 0]])\n",
    "c = np.array([[3, 2, 1], [2, 1, 3]])\n",
    "\n",
    "thresh = 0.5\n",
    "p_coloc_any = p_coloc.groupby('gene').apply(lambda x: np.mean(x.maxmin > thresh))\n",
    "p_coloc_top = p_coloc.groupby('gene').apply(lambda x: np.mean(x.topmin > thresh))\n",
    "\n",
    "\n",
    "fig11 = plt.figure(figsize=(14, 6), constrained_layout=False)\n",
    "gs = fig11.add_gridspec(2,3, wspace=0.5, hspace=0.2)\n",
    "\n",
    "ax = plt.subplot(gs[0, 0])\n",
    "sns.heatmap(a, cmap='Blues', vmin=0, vmax=3, ax=ax, cbar=False)\n",
    "ax.set(xlabel = 'Causal Variant', ylabel = 'Study')\n",
    "ax.set_title('Colocalization in Any Component')\n",
    "\n",
    "ax = plt.subplot(gs[0, 1])\n",
    "sns.heatmap(b, cmap='Blues', vmin=0, vmax=3, ax=ax, cbar=False)\n",
    "ax.set(xlabel = 'Causal Variant', ylabel = 'Study')\n",
    "ax.set_title('Colocalization in Top Component')\n",
    "\n",
    "ax = plt.subplot(gs[1, 0])\n",
    "ax.hist(p_coloc_any[p_coloc_any >= 0])\n",
    "ax.spines['right'].set_visible(False)\n",
    "ax.spines['top'].set_visible(False)\n",
    "ax.set(xlabel='Proportion of Expressed Tissue Pairs', ylabel='Genes')\n",
    "\n",
    "ax = plt.subplot(gs[1, 1])\n",
    "ax.hist(p_coloc_top[p_coloc_top >= 0])\n",
    "ax.spines['right'].set_visible(False)\n",
    "ax.spines['top'].set_visible(False)\n",
    "ax.set(xlabel='Proportion of Expressed Tissue Pairs')"
   ]
  },
  {
   "cell_type": "code",
   "execution_count": 5,
   "metadata": {},
   "outputs": [],
   "source": [
    "def f(x):\n",
    "    d = {}\n",
    "    d['pi_sum'] = x['pi'].sum()\n",
    "    d['z_avg'] = (x['pi'] * x['effect'] / np.sqrt(x['effect_var'])).sum() / x['pi'].sum() * x['p_active'].values[0]\n",
    "    \n",
    "    a = (x['effect'] / np.sqrt(x['effect_var']))\n",
    "    d['z_max'] = a.loc[a.abs().idxmax()] * x['p_active'].values[0]\n",
    "    d['effect_average'] = (x['pi'] * x['effect']).sum() / x['pi'].sum()\n",
    "    d['p_active'] = (x['p_active'].values[0])\n",
    "\n",
    "\n",
    "    return pd.Series(d)\n",
    "\n",
    "def generate_coloc_table(gene):\n",
    "    v = load_variant_report(gene)\n",
    "    m = load_model(gene, decompress=False)\n",
    "\n",
    "    component_summary = v.groupby(['top_component', 'study']).apply(f).reset_index()\n",
    "    top_components = component_summary.iloc[\n",
    "        component_summary.groupby('study').apply(lambda x: x.z_max.abs().idxmax())]\n",
    "    top_components = top_components.set_index('study')\n",
    "\n",
    "    # get p_coloc_top\n",
    "    result = pd.DataFrame(\n",
    "        columns=['share_top', 'p_coloc_top', 'p_coloc'],\n",
    "        index=pd.MultiIndex.from_product([top_components.index, top_components.index]))\n",
    "    result['share_top'] = np.equal.outer(top_components.top_component, top_components.top_component).ravel()\n",
    "    result['p_coloc_top'] = np.outer(top_components.p_active, top_components.p_active).ravel()\n",
    "\n",
    "    # add p_coloc\n",
    "    active = pd.DataFrame(m.active, index=m.study_ids)\n",
    "    a = active.loc[:, active.max(0) > 0.5].loc[top_components.index].values\n",
    "    result['p_coloc_any'] = (1 - np.exp(np.sum(np.log(1 - a[None]*a[:, None]), axis=-1))).ravel()\n",
    "\n",
    "    # add p_coloc_all\n",
    "    a = active.loc[:, active.max(0) > 0.5].loc[top_components.index].values\n",
    "    result['p_coloc_all'] = np.exp(np.sum(np.log(a[None]*a[:, None]), axis=-1)).ravel()\n",
    "\n",
    "    # clean up\n",
    "    result = result.reset_index().rename(columns={'level_0': 'study1', 'level_1': 'study2'})\n",
    "    result = result[result.study1 < result.study2]  # filter down to unique comparisons\n",
    "    result['p_coloc_top'] = result.p_coloc_top * result.share_top  # 0 if they don't share top component\n",
    "\n",
    "    result['gene'] = gene\n",
    "    result = result.loc[:, ['gene', 'study1', 'study2', 'p_coloc', 'p_coloc_all', 'p_coloc_top']]\n",
    "    return result\n",
    "\n",
    "def generate_coloc_table_marios(gene):\n",
    "    v = load_variant_report(gene)\n",
    "    m = load_model(gene, decompress=False)\n",
    "\n",
    "    component_summary = v.groupby(['top_component', 'study']).apply(f).reset_index()\n",
    "    top_components = component_summary.iloc[\n",
    "        component_summary.groupby('study').apply(lambda x: x.z_max.abs().idxmax())]\n",
    "    top_components = top_components.set_index('study')\n",
    "\n",
    "    # get p_coloc_top\n",
    "    result = pd.DataFrame(\n",
    "        columns=['share_top', 'p_coloc_top', 'p_coloc_any'],\n",
    "        index=pd.MultiIndex.from_product([top_components.index, top_components.index]))\n",
    "    result['share_top'] = np.equal.outer(top_components.top_component, top_components.top_component).ravel()\n",
    "    result['p_coloc_top'] = np.outer(top_components.p_active, top_components.p_active).ravel()\n",
    "\n",
    "    # add p_coloc\n",
    "    active = pd.DataFrame(m.active, index=m.study_ids)\n",
    "    a = active.loc[:, active.max(0) > 0.5].loc[top_components.index].values\n",
    "    T = a.shape[0]\n",
    "    result['p_coloc_any'] = np.array([[a[[i, j]].min(0).max() for i in range(T)] for j in range(T)]).ravel() \n",
    "\n",
    "    # add p_coloc_all\n",
    "    result['p_coloc_all'] = np.array([[a[[i, j]].min() for i in range(T)] for j in range(T)]).ravel()\n",
    "\n",
    "    # clean up\n",
    "    result = result.reset_index().rename(columns={'level_0': 'study1', 'level_1': 'study2'})\n",
    "    result = result[result.study1 < result.study2]  # filter down to unique comparisons\n",
    "    result['p_coloc_top'] = result.p_coloc_top * result.share_top  # 0 if they don't share top component\n",
    "\n",
    "    result['gene'] = gene\n",
    "    result = result.loc[:, ['gene', 'study1', 'study2', 'p_coloc_any', 'p_coloc_all', 'p_coloc_top']]\n",
    "    return result"
   ]
  },
  {
   "cell_type": "code",
   "execution_count": 10,
   "metadata": {},
   "outputs": [],
   "source": [
    "def generate_coloc_table_marios(gene):\n",
    "    v = load_variant_report(gene)\n",
    "    m = load_model(gene, decompress=False)\n",
    "\n",
    "    component_summary = v.groupby(['top_component', 'study']).apply(f).reset_index()\n",
    "    top_components = component_summary.iloc[\n",
    "        component_summary.groupby('study').apply(lambda x: x.z_max.abs().idxmax())]\n",
    "    top_components = top_components.set_index('study')\n",
    "\n",
    "    top_components = top_components.loc[m.study_ids]\n",
    "    top_components.p_active = top_components.p_active.fillna(0)\n",
    "\n",
    "    # get p_coloc_top\n",
    "    result = pd.DataFrame(\n",
    "        columns=['share_top', 'p_coloc_top', 'p_coloc_any'],\n",
    "        index=pd.MultiIndex.from_product([top_components.index, top_components.index]))\n",
    "    result['share_top'] = np.equal.outer(top_components.top_component, top_components.top_component).ravel()\n",
    "    result['p_coloc_top'] = np.outer(top_components.p_active, top_components.p_active).ravel()\n",
    "\n",
    "    # add p_coloc\n",
    "    active = pd.DataFrame(m.active, index=m.study_ids)\n",
    "    a = active.loc[:, active.max(0) > 0.5].loc[top_components.index].values\n",
    "    T = a.shape[0]\n",
    "    result['p_coloc_any'] = np.array([[a[[i, j]].min(0).max() for i in range(T)] for j in range(T)]).ravel() \n",
    "\n",
    "    # add p_coloc_all\n",
    "    result['p_coloc_all'] = np.array([[a[[i, j]].min() for i in range(T)] for j in range(T)]).ravel()\n",
    "\n",
    "    # clean up\n",
    "    result = result.reset_index().rename(columns={'level_0': 'study1', 'level_1': 'study2'})\n",
    "    result = result[result.study1 < result.study2]  # filter down to unique comparisons\n",
    "    result['p_coloc_top'] = result.p_coloc_top * result.share_top  # 0 if they don't share top component\n",
    "\n",
    "    result['gene'] = gene\n",
    "    result = result.loc[:, ['gene', 'study1', 'study2', 'p_coloc_any', 'p_coloc_all', 'p_coloc_top']]\n",
    "    return result"
   ]
  },
  {
   "cell_type": "code",
   "execution_count": 6,
   "metadata": {},
   "outputs": [],
   "source": [
    "model_paths = np.loadtxt('../output/requests/GTEx_cafeh_genotype_ss.txt', dtype=str)\n",
    "vr_paths = np.loadtxt('../output/requests/GTEx_cafeh_genotype_ss_variant_reports.txt', dtype=str)\n",
    "gene2path = {p.split('/')[3]: p for p in model_paths} "
   ]
  },
  {
   "cell_type": "code",
   "execution_count": 100,
   "metadata": {},
   "outputs": [],
   "source": [
    "def coloc_maxmin(model):\n",
    "    return pd.DataFrame([{'t1': model.study_ids[i], \n",
    "      't2': model.study_ids[j], \n",
    "      'maxmin': model.active[[i, j]].min(0).max()} for i, j in combinations(range(model.dims['T']), 2)])\n",
    "\n",
    "def coloc_topmin(model):\n",
    "    # get top component for each study\n",
    "    top = (\n",
    "        ((model.weight_means / np.sqrt(model.weight_vars)) * model.pi[None]).sum(2) * model.active\n",
    "    ).argmax(1)\n",
    "    return pd.DataFrame([{\n",
    "        't1': model.study_ids[i], \n",
    "        't2': model.study_ids[j],\n",
    "        't1_top': top[i],\n",
    "        't2_top': top[j],\n",
    "        'topmin': model.active[[i, j]].min(0)[top[i]] * (top[i] == top[j])}\n",
    "        for i, j in combinations(range(model.dims['T']), 2)])\n",
    "\n",
    "def coloc_table_fn(gene):\n",
    "    try:\n",
    "        m = load_model(gene, decompress=True)\n",
    "        a = coloc_maxmin(m)\n",
    "        b = coloc_topmin(m)\n",
    "        result = a.set_index(['t1','t2']).join(b.set_index(['t1','t2'])).reset_index()\n",
    "    except Exception as e:\n",
    "        result = None\n",
    "    return result"
   ]
  },
  {
   "cell_type": "code",
   "execution_count": 8,
   "metadata": {},
   "outputs": [],
   "source": []
  },
  {
   "cell_type": "code",
   "execution_count": 10,
   "metadata": {},
   "outputs": [],
   "source": [
    "gene = 'ENSG00000187634.11'\n",
    "\n",
    "\n",
    "m = load_model(gene, decompress=False)\n",
    "m._decompress_model()\n",
    "a = coloc_maxmin(m)\n",
    "b = coloc_topmin(m)\n",
    "result = a.set_index(['t1','t2']).join(b.set_index(['t1','t2'])).reset_index()"
   ]
  },
  {
   "cell_type": "markdown",
   "metadata": {},
   "source": [
    "### Tissue pair histograms"
   ]
  },
  {
   "cell_type": "code",
   "execution_count": 14,
   "metadata": {},
   "outputs": [
    {
     "name": "stderr",
     "output_type": "stream",
     "text": [
      "100%|██████████| 50/50 [00:29<00:00,  1.69it/s]\n"
     ]
    }
   ],
   "source": [
    "import os\n",
    "from joblib import Parallel, delayed\n",
    "\n",
    "genes = list(gene2path.keys())\n",
    "result = Parallel(n_jobs=1, prefer=\"threads\")(delayed(coloc_table_fn)(gene) for gene in tqdm(genes[:50]))"
   ]
  },
  {
   "cell_type": "code",
   "execution_count": 15,
   "metadata": {},
   "outputs": [],
   "source": [
    "if not os.path.isfile('coloc_stats.pkl'):\n",
    "    p_coloc = []\n",
    "    for gene in tqdm(list(gene2path.keys())):\n",
    "        try:\n",
    "            m = load_model(gene, decompress=False)\n",
    "            m._decompress_model()\n",
    "            a = coloc_maxmin(m)\n",
    "            b = coloc_topmin(m)\n",
    "            result = a.set_index(['t1','t2']).join(b.set_index(['t1','t2'])).reset_index()\n",
    "            p_coloc.append(result)\n",
    "        except Exception as e:\n",
    "            print(gene)\n",
    "    pickle.dump(p_coloc, open('coloc_stats.pkl', 'wb'))\n",
    "\n",
    "p_coloc = pickle.load(open('coloc_stats.pkl', 'rb'))"
   ]
  },
  {
   "cell_type": "code",
   "execution_count": 7,
   "metadata": {},
   "outputs": [],
   "source": [
    "if not os.path.isfile('p_coloc.pkl'):\n",
    "    p_coloc = []\n",
    "    for gene in tqdm(list(gene2path.keys())):\n",
    "        try:\n",
    "            d = generate_coloc_table(gene)\n",
    "            p_coloc.append(d)\n",
    "        except Exception as e:\n",
    "            print(gene)\n",
    "    pickle.dump(p_coloc, open('p_coloc.pkl', 'wb'))\n",
    "\n",
    "p_coloc = pickle.load(open('p_coloc.pkl', 'rb'))"
   ]
  },
  {
   "cell_type": "code",
   "execution_count": 7,
   "metadata": {},
   "outputs": [],
   "source": [
    "if not os.path.isfile('p_coloc_marios.pkl'):\n",
    "    p_coloc = []\n",
    "    for gene in tqdm(list(gene2path.keys())):\n",
    "        try:\n",
    "            d = generate_coloc_table_marios(gene)\n",
    "            p_coloc.append(d)\n",
    "        except Exception as e:\n",
    "            print(gene)\n",
    "    pickle.dump(p_coloc, open('p_coloc_marios.pkl', 'wb'))\n",
    "\n",
    "p_coloc = pickle.load(open('p_coloc_marios.pkl', 'rb'))"
   ]
  },
  {
   "cell_type": "code",
   "execution_count": 17,
   "metadata": {},
   "outputs": [],
   "source": [
    "import matplotlib.pyplot as plt\n",
    "\n",
    "SMALL_SIZE = 8\n",
    "MEDIUM_SIZE = 12\n",
    "BIGGER_SIZE = 16\n",
    "\n",
    "plt.rc('font', size=SMALL_SIZE)          # controls default text sizes\n",
    "plt.rc('axes', titlesize=BIGGER_SIZE)     # fontsize of the axes title\n",
    "plt.rc('axes', labelsize=MEDIUM_SIZE)    # fontsize of the x and y labels\n",
    "plt.rc('xtick', labelsize=SMALL_SIZE)    # fontsize of the tick labels\n",
    "plt.rc('ytick', labelsize=SMALL_SIZE)    # fontsize of the tick labels\n",
    "plt.rc('legend', fontsize=SMALL_SIZE)    # legend fontsize\n",
    "plt.rc('figure', titlesize=BIGGER_SIZE)  # fontsize of the figure title\n",
    "\n",
    "a = np.array([[2, 0, 0], [1, 0.5, 3]])\n",
    "b = np.array([[0, 3, 1], [1, 2, 0]])\n",
    "c = np.array([[3, 2, 1], [2, 1, 3]])"
   ]
  },
  {
   "cell_type": "markdown",
   "metadata": {},
   "source": [
    "### Plots with paper definition of p_coloc_any, p_coloc_top, p_coloc_all"
   ]
  },
  {
   "cell_type": "code",
   "execution_count": 19,
   "metadata": {},
   "outputs": [],
   "source": [
    "thresh = 0.5\n",
    "p_coloc_any = np.array([(p.p_coloc_any > thresh).mean() for p in p_coloc])\n",
    "p_coloc_top = np.array([(p.p_coloc_top > thresh).mean() for p in p_coloc])\n",
    "p_coloc_all = np.array([(p.p_coloc_all > thresh).mean() for p in p_coloc])\n",
    "\n",
    "fig11 = plt.figure(figsize=(14, 6), constrained_layout=False)\n",
    "gs = fig11.add_gridspec(2,3, wspace=0.5, hspace=0.2)\n",
    "\n",
    "ax = plt.subplot(gs[0, 0])\n",
    "sns.heatmap(a, cmap='Blues', vmin=0, vmax=3, ax=ax, cbar=False)\n",
    "ax.set(xlabel = 'Causal Variant', ylabel = 'Study')\n",
    "ax.set_title('Colocalization in Any Component')\n",
    "\n",
    "ax = plt.subplot(gs[0, 1])\n",
    "sns.heatmap(b, cmap='Blues', vmin=0, vmax=3, ax=ax, cbar=False)\n",
    "ax.set(xlabel = 'Causal Variant', ylabel = 'Study')\n",
    "ax.set_title('Colocalization in Top Component')\n",
    "\n",
    "ax = plt.subplot(gs[0, 2])\n",
    "sns.heatmap(c, cmap='Blues', vmin=0, vmax=3, ax=ax, cbar=False)\n",
    "ax.set(xlabel = 'Causal Variant', ylabel = 'Study')\n",
    "ax.set_title('Colocalization in All Components')\n",
    "\n",
    "ax = plt.subplot(gs[1, 0])\n",
    "ax.hist(p_coloc_any[p_coloc_any >= 0])\n",
    "ax.spines['right'].set_visible(False)\n",
    "ax.spines['top'].set_visible(False)\n",
    "ax.set(xlabel='Proportion of Expressed Tissue Pairs')\n",
    "\n",
    "ax = plt.subplot(gs[1, 1])\n",
    "ax.hist(p_coloc_top[p_coloc_top >= 0])\n",
    "ax.spines['right'].set_visible(False)\n",
    "ax.spines['top'].set_visible(False)\n",
    "ax.set(xlabel='Proportion of Expressed Tissue Pairs')\n",
    "\n",
    "bax = brokenaxes(ylims=((1, 500), (15900, 16000)), subplot_spec=gs[1, 2])\n",
    "bax.hist(p_coloc_all[p_coloc_all >= 0])\n",
    "bax.set_xlabel('Proportion of Expressed Tissue Pairs')\n",
    "plt.tight_layout()"
   ]
  },
  {
   "cell_type": "code",
   "execution_count": 12,
   "metadata": {},
   "outputs": [
    {
     "name": "stderr",
     "output_type": "stream",
     "text": [
      "/home-3/ktayeb1@jhu.edu/.conda/envs/cafeh-env/lib/python3.6/site-packages/ipykernel_launcher.py:20: RuntimeWarning: invalid value encountered in greater_equal\n",
      "/home-3/ktayeb1@jhu.edu/.conda/envs/cafeh-env/lib/python3.6/site-packages/ipykernel_launcher.py:26: RuntimeWarning: invalid value encountered in greater_equal\n",
      "/home-3/ktayeb1@jhu.edu/.conda/envs/cafeh-env/lib/python3.6/site-packages/ipykernel_launcher.py:32: RuntimeWarning: invalid value encountered in greater_equal\n",
      "/home-3/ktayeb1@jhu.edu/.conda/envs/cafeh-env/lib/python3.6/site-packages/ipykernel_launcher.py:34: UserWarning: This figure includes Axes that are not compatible with tight_layout, so results might be incorrect.\n"
     ]
    },
    {
     "data": {
      "image/png": "[encoded data removed]",
      "text/plain": [
       "<Figure size 1008x432 with 8 Axes>"
      ]
     },
     "metadata": {
      "needs_background": "light"
     },
     "output_type": "display_data"
    }
   ],
   "source": [
    "fig11 = plt.figure(figsize=(14, 6), constrained_layout=False)\n",
    "gs = fig11.add_gridspec(2,3, wspace=0.5, hspace=0.2)\n",
    "\n",
    "ax = plt.subplot(gs[0, 0])\n",
    "sns.heatmap(a, cmap='Blues', vmin=0, vmax=3, ax=ax, cbar=False)\n",
    "ax.set(xlabel = 'Causal Variant', ylabel = 'Study')\n",
    "ax.set_title('Colocalization in Any Component')\n",
    "\n",
    "ax = plt.subplot(gs[0, 1])\n",
    "sns.heatmap(b, cmap='Blues', vmin=0, vmax=3, ax=ax, cbar=False)\n",
    "ax.set(xlabel = 'Causal Variant', ylabel = 'Study')\n",
    "ax.set_title('Colocalization in Top Component')\n",
    "\n",
    "ax = plt.subplot(gs[0, 2])\n",
    "sns.heatmap(c, cmap='Blues', vmin=0, vmax=3, ax=ax, cbar=False)\n",
    "ax.set(xlabel = 'Causal Variant', ylabel = 'Study')\n",
    "ax.set_title('Colocalization in All Components')\n",
    "\n",
    "ax = plt.subplot(gs[1, 0])\n",
    "ax.hist(p_coloc_any[p_coloc_any >= 0])\n",
    "ax.spines['right'].set_visible(False)\n",
    "ax.spines['top'].set_visible(False)\n",
    "ax.set(xlabel='Proportion of Expressed Tissue Pairs')\n",
    "\n",
    "ax = plt.subplot(gs[1, 1])\n",
    "ax.hist(p_coloc_top[p_coloc_top >= 0])\n",
    "ax.spines['right'].set_visible(False)\n",
    "ax.spines['top'].set_visible(False)\n",
    "ax.set(xlabel='Proportion of Expressed Tissue Pairs')\n",
    "\n",
    "bax = brokenaxes(ylims=((1, 500), (15900, 16000)), subplot_spec=gs[1, 2])\n",
    "bax.hist(p_coloc_all[p_coloc_all >= 0])\n",
    "bax.set_xlabel('Proportion of Expressed Tissue Pairs')\n",
    "plt.tight_layout()"
   ]
  },
  {
   "cell_type": "code",
   "execution_count": 13,
   "metadata": {},
   "outputs": [],
   "source": [
    "egenes = pd.read_csv('../output/GTEx/egenes.txt', sep='\\t')\n",
    "gene2eqtl_tissues = egenes.groupby('gene_id').tissue.unique().to_dict()"
   ]
  },
  {
   "cell_type": "code",
   "execution_count": 23,
   "metadata": {},
   "outputs": [
    {
     "name": "stderr",
     "output_type": "stream",
     "text": [
      "\n",
      "  0%|          | 0/17216 [00:00<?, ?it/s]\u001b[A\n",
      "  0%|          | 51/17216 [00:00<00:34, 502.13it/s]\u001b[A\n",
      "  1%|          | 103/17216 [00:00<00:33, 505.19it/s]\u001b[A\n",
      "  1%|          | 156/17216 [00:00<00:33, 510.72it/s]\u001b[A"
     ]
    },
    {
     "name": "stdout",
     "output_type": "stream",
     "text": [
      "ENSG00000078900.14 single positional indexer is out-of-bounds\n",
      "ENSG00000131686.14 single positional indexer is out-of-bounds\n",
      "ENSG00000162496.8 single positional indexer is out-of-bounds\n",
      "ENSG00000157330.9 single positional indexer is out-of-bounds\n",
      "ENSG00000157330.9 single positional indexer is out-of-bounds\n",
      "ENSG00000157330.9 single positional indexer is out-of-bounds\n",
      "ENSG00000157330.9 single positional indexer is out-of-bounds\n",
      "ENSG00000157330.9 single positional indexer is out-of-bounds\n"
     ]
    },
    {
     "name": "stderr",
     "output_type": "stream",
     "text": [
      "\n",
      "  1%|          | 210/17216 [00:00<00:32, 518.11it/s]\u001b[A\n",
      "  2%|▏         | 262/17216 [00:00<00:32, 518.15it/s]\u001b[A\n",
      "  2%|▏         | 313/17216 [00:00<00:32, 515.18it/s]\u001b[A"
     ]
    },
    {
     "name": "stdout",
     "output_type": "stream",
     "text": [
      "ENSG00000162542.13 single positional indexer is out-of-bounds\n",
      "ENSG00000133216.16 single positional indexer is out-of-bounds\n",
      "ENSG00000133216.16 single positional indexer is out-of-bounds\n"
     ]
    },
    {
     "name": "stderr",
     "output_type": "stream",
     "text": [
      "\n",
      "  2%|▏         | 363/17216 [00:00<00:33, 509.70it/s]\u001b[A\n",
      "  2%|▏         | 415/17216 [00:00<00:32, 510.18it/s]\u001b[A\n",
      "  3%|▎         | 467/17216 [00:00<00:32, 512.72it/s]\u001b[A\n",
      "  3%|▎         | 517/17216 [00:01<00:32, 507.58it/s]\u001b[A"
     ]
    },
    {
     "name": "stdout",
     "output_type": "stream",
     "text": [
      "ENSG00000121904.17 single positional indexer is out-of-bounds\n",
      "ENSG00000065978.18 single positional indexer is out-of-bounds\n"
     ]
    },
    {
     "name": "stderr",
     "output_type": "stream",
     "text": [
      "\n",
      "  3%|▎         | 568/17216 [00:01<00:32, 506.45it/s]\u001b[A\n",
      "  4%|▎         | 619/17216 [00:01<00:32, 506.84it/s]\u001b[A\n",
      "  4%|▍         | 670/17216 [00:01<00:32, 506.18it/s]\u001b[A\n",
      "  4%|▍         | 722/17216 [00:01<00:32, 508.56it/s]\u001b[A\n",
      "  4%|▍         | 773/17216 [00:01<00:32, 508.19it/s]\u001b[A"
     ]
    },
    {
     "name": "stdout",
     "output_type": "stream",
     "text": [
      "ENSG00000116641.17 single positional indexer is out-of-bounds\n"
     ]
    },
    {
     "name": "stderr",
     "output_type": "stream",
     "text": [
      "\n",
      "  5%|▍         | 824/17216 [00:01<00:32, 505.48it/s]\u001b[A\n",
      "  5%|▌         | 875/17216 [00:01<00:32, 505.37it/s]\u001b[A\n",
      "  5%|▌         | 926/17216 [00:01<00:32, 505.38it/s]\u001b[A\n",
      "  6%|▌         | 978/17216 [00:01<00:31, 507.84it/s]\u001b[A"
     ]
    },
    {
     "name": "stdout",
     "output_type": "stream",
     "text": [
      "ENSG00000143125.5 single positional indexer is out-of-bounds\n",
      "ENSG00000175984.14 single positional indexer is out-of-bounds\n"
     ]
    },
    {
     "name": "stderr",
     "output_type": "stream",
     "text": [
      "\n",
      "  6%|▌         | 1029/17216 [00:02<00:32, 503.90it/s]\u001b[A\n",
      "  6%|▋         | 1080/17216 [00:02<00:32, 503.66it/s]\u001b[A\n",
      "  7%|▋         | 1132/17216 [00:02<00:31, 507.02it/s]\u001b[A\n",
      "  7%|▋         | 1185/17216 [00:02<00:31, 512.45it/s]\u001b[A"
     ]
    },
    {
     "name": "stdout",
     "output_type": "stream",
     "text": [
      "ENSG00000185962.1 single positional indexer is out-of-bounds\n",
      "ENSG00000197084.5 single positional indexer is out-of-bounds\n",
      "ENSG00000163207.6 single positional indexer is out-of-bounds\n"
     ]
    },
    {
     "name": "stderr",
     "output_type": "stream",
     "text": [
      "\n",
      "  7%|▋         | 1237/17216 [00:02<00:31, 509.09it/s]\u001b[A\n",
      "  7%|▋         | 1288/17216 [00:02<00:31, 508.91it/s]\u001b[A\n",
      "  8%|▊         | 1339/17216 [00:02<00:31, 507.93it/s]\u001b[A\n",
      "  8%|▊         | 1391/17216 [00:02<00:31, 509.11it/s]\u001b[A\n",
      "  8%|▊         | 1442/17216 [00:02<00:30, 509.15it/s]\u001b[A"
     ]
    },
    {
     "name": "stdout",
     "output_type": "stream",
     "text": [
      "ENSG00000158869.10 single positional indexer is out-of-bounds\n",
      "ENSG00000116132.11 single positional indexer is out-of-bounds\n"
     ]
    },
    {
     "name": "stderr",
     "output_type": "stream",
     "text": [
      "\n",
      "  9%|▊         | 1493/17216 [00:02<00:30, 507.58it/s]\u001b[A\n",
      "  9%|▉         | 1544/17216 [00:03<00:30, 507.99it/s]\u001b[A"
     ]
    },
    {
     "name": "stdout",
     "output_type": "stream",
     "text": [
      "ENSG00000143344.15 single positional indexer is out-of-bounds\n",
      "ENSG00000134365.12 single positional indexer is out-of-bounds\n"
     ]
    },
    {
     "name": "stderr",
     "output_type": "stream",
     "text": [
      "\n",
      "  9%|▉         | 1595/17216 [00:03<00:30, 505.15it/s]\u001b[A\n",
      " 10%|▉         | 1649/17216 [00:03<00:30, 512.25it/s]\u001b[A\n",
      " 10%|▉         | 1701/17216 [00:03<00:30, 509.57it/s]\u001b[A"
     ]
    },
    {
     "name": "stdout",
     "output_type": "stream",
     "text": [
      "ENSG00000263961.6 single positional indexer is out-of-bounds\n",
      "ENSG00000136634.5 single positional indexer is out-of-bounds\n",
      "ENSG00000136634.5 single positional indexer is out-of-bounds\n"
     ]
    },
    {
     "name": "stderr",
     "output_type": "stream",
     "text": [
      "\n",
      " 10%|█         | 1752/17216 [00:03<00:30, 506.10it/s]\u001b[A\n",
      " 10%|█         | 1803/17216 [00:03<00:30, 504.81it/s]\u001b[A"
     ]
    },
    {
     "name": "stdout",
     "output_type": "stream",
     "text": [
      "ENSG00000143816.7 single positional indexer is out-of-bounds\n"
     ]
    },
    {
     "name": "stderr",
     "output_type": "stream",
     "text": [
      "\n",
      " 11%|█         | 1857/17216 [00:03<00:29, 513.61it/s]\u001b[A\n",
      " 11%|█         | 1910/17216 [00:03<00:29, 517.72it/s]\u001b[A"
     ]
    },
    {
     "name": "stdout",
     "output_type": "stream",
     "text": [
      "ENSG00000169224.12 single positional indexer is out-of-bounds\n",
      "ENSG00000169224.12 single positional indexer is out-of-bounds\n",
      "ENSG00000169224.12 single positional indexer is out-of-bounds\n",
      "ENSG00000169224.12 single positional indexer is out-of-bounds\n",
      "ENSG00000169224.12 single positional indexer is out-of-bounds\n",
      "ENSG00000196539.3 single positional indexer is out-of-bounds\n",
      "ENSG00000196539.3 single positional indexer is out-of-bounds\n",
      "ENSG00000171163.15 single positional indexer is out-of-bounds\n",
      "ENSG00000084674.14 single positional indexer is out-of-bounds\n"
     ]
    },
    {
     "name": "stderr",
     "output_type": "stream",
     "text": [
      "\n",
      " 11%|█▏        | 1962/17216 [00:03<00:29, 512.60it/s]\u001b[A\n",
      " 12%|█▏        | 2014/17216 [00:03<00:29, 513.37it/s]\u001b[A\n",
      " 12%|█▏        | 2066/17216 [00:04<00:29, 512.17it/s]\u001b[A"
     ]
    },
    {
     "name": "stdout",
     "output_type": "stream",
     "text": [
      "ENSG00000138073.13 single positional indexer is out-of-bounds\n",
      "ENSG00000055332.16 single positional indexer is out-of-bounds\n",
      "ENSG00000115904.12 single positional indexer is out-of-bounds\n"
     ]
    },
    {
     "name": "stderr",
     "output_type": "stream",
     "text": [
      "\n",
      " 12%|█▏        | 2118/17216 [00:04<00:29, 510.80it/s]\u001b[A\n",
      " 13%|█▎        | 2170/17216 [00:04<00:29, 508.47it/s]\u001b[A"
     ]
    },
    {
     "name": "stdout",
     "output_type": "stream",
     "text": [
      "ENSG00000116016.13 single positional indexer is out-of-bounds\n"
     ]
    },
    {
     "name": "stderr",
     "output_type": "stream",
     "text": [
      "\n",
      " 13%|█▎        | 2221/17216 [00:04<00:29, 501.78it/s]\u001b[A\n",
      " 13%|█▎        | 2272/17216 [00:04<00:29, 499.48it/s]\u001b[A\n",
      " 13%|█▎        | 2324/17216 [00:04<00:29, 502.49it/s]"
     ]
    },
    {
     "name": "stdout",
     "output_type": "stream",
     "text": [
      "ENSG00000116096.5 single positional indexer is out-of-bounds\n",
      "ENSG00000144115.16 single positional indexer is out-of-bounds\n"
     ]
    },
    {
     "name": "stderr",
     "output_type": "stream",
     "text": [
      "\u001b[A\n",
      " 14%|█▍        | 2375/17216 [00:04<00:29, 499.55it/s]\u001b[A\n",
      " 14%|█▍        | 2427/17216 [00:04<00:29, 503.15it/s]\u001b[A\n",
      " 14%|█▍        | 2478/17216 [00:04<00:29, 504.32it/s]\u001b[A"
     ]
    },
    {
     "name": "stdout",
     "output_type": "stream",
     "text": [
      "ENSG00000144057.15 single positional indexer is out-of-bounds\n",
      "ENSG00000136688.10 single positional indexer is out-of-bounds\n",
      "ENSG00000136732.14 single positional indexer is out-of-bounds\n",
      "ENSG00000222014.5 single positional indexer is out-of-bounds\n",
      "ENSG00000152093.7 single positional indexer is out-of-bounds\n"
     ]
    },
    {
     "name": "stderr",
     "output_type": "stream",
     "text": [
      "\n",
      " 15%|█▍        | 2529/17216 [00:04<00:29, 504.22it/s]\u001b[A\n",
      " 15%|█▍        | 2580/17216 [00:05<00:29, 503.01it/s]\u001b[A"
     ]
    },
    {
     "name": "stdout",
     "output_type": "stream",
     "text": [
      "ENSG00000082258.12 single positional indexer is out-of-bounds\n"
     ]
    },
    {
     "name": "stderr",
     "output_type": "stream",
     "text": [
      "\n",
      " 15%|█▌        | 2631/17216 [00:05<00:29, 500.80it/s]\u001b[A\n",
      " 16%|█▌        | 2682/17216 [00:05<00:28, 501.94it/s]\u001b[A\n",
      " 16%|█▌        | 2733/17216 [00:05<00:28, 501.63it/s]\u001b[A\n",
      " 16%|█▌        | 2784/17216 [00:05<00:28, 502.52it/s]\u001b[A\n",
      " 16%|█▋        | 2835/17216 [00:05<00:28, 502.23it/s]\u001b[A\n",
      " 17%|█▋        | 2886/17216 [00:05<00:28, 503.45it/s]\u001b[A\n",
      " 17%|█▋        | 2937/17216 [00:05<00:28, 505.17it/s]\u001b[A\n",
      " 17%|█▋        | 2992/17216 [00:05<00:27, 515.66it/s]\u001b[A"
     ]
    },
    {
     "name": "stdout",
     "output_type": "stream",
     "text": [
      "ENSG00000173744.17 single positional indexer is out-of-bounds\n",
      "ENSG00000066248.14 single positional indexer is out-of-bounds\n",
      "ENSG00000085982.13 single positional indexer is out-of-bounds\n",
      "ENSG00000242515.5 single positional indexer is out-of-bounds\n",
      "ENSG00000167165.18 single positional indexer is out-of-bounds\n",
      "ENSG00000167165.18 single positional indexer is out-of-bounds\n"
     ]
    },
    {
     "name": "stderr",
     "output_type": "stream",
     "text": [
      "\n",
      " 18%|█▊        | 3044/17216 [00:05<00:27, 508.07it/s]\u001b[A\n",
      " 18%|█▊        | 3095/17216 [00:06<00:27, 505.85it/s]\u001b[A\n",
      " 18%|█▊        | 3146/17216 [00:06<00:27, 503.85it/s]\u001b[A\n",
      " 19%|█▊        | 3197/17216 [00:06<00:27, 503.75it/s]\u001b[A\n",
      " 19%|█▉        | 3249/17216 [00:06<00:27, 505.77it/s]\u001b[A\n",
      " 19%|█▉        | 3300/17216 [00:06<00:27, 505.18it/s]\u001b[A"
     ]
    },
    {
     "name": "stdout",
     "output_type": "stream",
     "text": [
      "ENSG00000168329.13 single positional indexer is out-of-bounds\n"
     ]
    },
    {
     "name": "stderr",
     "output_type": "stream",
     "text": [
      "\n",
      " 19%|█▉        | 3351/17216 [00:06<00:27, 501.98it/s]\u001b[A\n",
      " 20%|█▉        | 3404/17216 [00:06<00:27, 507.35it/s]\u001b[A\n",
      " 20%|██        | 3455/17216 [00:06<00:27, 503.53it/s]\u001b[A"
     ]
    },
    {
     "name": "stdout",
     "output_type": "stream",
     "text": [
      "ENSG00000164082.14 single positional indexer is out-of-bounds\n",
      "ENSG00000164082.14 single positional indexer is out-of-bounds\n",
      "ENSG00000114405.10 single positional indexer is out-of-bounds\n",
      "ENSG00000163630.10 single positional indexer is out-of-bounds\n"
     ]
    },
    {
     "name": "stderr",
     "output_type": "stream",
     "text": [
      "\n",
      " 20%|██        | 3506/17216 [00:06<00:27, 504.32it/s]\u001b[A\n",
      " 21%|██        | 3557/17216 [00:07<00:27, 504.56it/s]\u001b[A\n",
      " 21%|██        | 3611/17216 [00:07<00:26, 513.28it/s]\u001b[A\n",
      " 21%|██▏       | 3663/17216 [00:07<00:26, 509.45it/s]\u001b[A"
     ]
    },
    {
     "name": "stdout",
     "output_type": "stream",
     "text": [
      "ENSG00000114487.9 single positional indexer is out-of-bounds\n",
      "ENSG00000091972.18 single positional indexer is out-of-bounds\n",
      "ENSG00000144847.12 single positional indexer is out-of-bounds\n"
     ]
    },
    {
     "name": "stderr",
     "output_type": "stream",
     "text": [
      "\n",
      " 22%|██▏       | 3715/17216 [00:07<00:26, 510.83it/s]\u001b[A\n",
      " 22%|██▏       | 3767/17216 [00:07<00:26, 511.07it/s]\u001b[A"
     ]
    },
    {
     "name": "stdout",
     "output_type": "stream",
     "text": [
      "ENSG00000180767.9 single positional indexer is out-of-bounds\n",
      "ENSG00000132394.10 single positional indexer is out-of-bounds\n",
      "ENSG00000251287.8 single positional indexer is out-of-bounds\n",
      "ENSG00000175110.11 single positional indexer is out-of-bounds\n",
      "ENSG00000158258.16 single positional indexer is out-of-bounds\n"
     ]
    },
    {
     "name": "stderr",
     "output_type": "stream",
     "text": [
      "\n",
      " 22%|██▏       | 3819/17216 [00:07<00:26, 509.77it/s]\u001b[A\n",
      " 22%|██▏       | 3871/17216 [00:07<00:26, 510.42it/s]\u001b[A\n",
      " 23%|██▎       | 3924/17216 [00:07<00:25, 514.05it/s]\u001b[A"
     ]
    },
    {
     "name": "stdout",
     "output_type": "stream",
     "text": [
      "ENSG00000196542.8 single positional indexer is out-of-bounds\n",
      "ENSG00000075651.15 single positional indexer is out-of-bounds\n",
      "ENSG00000114346.13 single positional indexer is out-of-bounds\n",
      "ENSG00000114770.16 single positional indexer is out-of-bounds\n"
     ]
    },
    {
     "name": "stderr",
     "output_type": "stream",
     "text": [
      "\n",
      " 23%|██▎       | 3976/17216 [00:07<00:25, 511.54it/s]\u001b[A\n",
      " 23%|██▎       | 4028/17216 [00:07<00:25, 511.59it/s]\u001b[A\n"
     ]
    },
    {
     "name": "stdout",
     "output_type": "stream",
     "text": [
      "ENSG00000157005.3 single positional indexer is out-of-bounds\n"
     ]
    },
    {
     "name": "stderr",
     "output_type": "stream",
     "text": [
      " 24%|██▎       | 4080/17216 [00:08<00:25, 506.74it/s]\u001b[A\n",
      " 24%|██▍       | 4131/17216 [00:08<00:26, 500.88it/s]\u001b[A\n",
      " 24%|██▍       | 4182/17216 [00:08<00:25, 501.51it/s]\u001b[A\n",
      " 25%|██▍       | 4234/17216 [00:08<00:25, 505.71it/s]\u001b[A\n",
      " 25%|██▍       | 4285/17216 [00:08<00:25, 505.50it/s]\u001b[A"
     ]
    },
    {
     "name": "stdout",
     "output_type": "stream",
     "text": [
      "ENSG00000124406.16 single positional indexer is out-of-bounds\n",
      "ENSG00000151834.15 single positional indexer is out-of-bounds\n"
     ]
    },
    {
     "name": "stderr",
     "output_type": "stream",
     "text": [
      "\n",
      " 25%|██▌       | 4336/17216 [00:08<00:25, 505.57it/s]\u001b[A\n",
      " 25%|██▌       | 4388/17216 [00:08<00:25, 507.96it/s]\u001b[A\n",
      " 26%|██▌       | 4440/17216 [00:08<00:25, 509.72it/s]\u001b[A"
     ]
    },
    {
     "name": "stdout",
     "output_type": "stream",
     "text": [
      "ENSG00000156269.4 single positional indexer is out-of-bounds\n",
      "ENSG00000182168.14 single positional indexer is out-of-bounds\n"
     ]
    },
    {
     "name": "stderr",
     "output_type": "stream",
     "text": [
      "\n",
      " 26%|██▌       | 4491/17216 [00:08<00:25, 505.53it/s]\u001b[A\n",
      " 26%|██▋       | 4542/17216 [00:08<00:25, 505.03it/s]\u001b[A\n",
      " 27%|██▋       | 4595/17216 [00:09<00:24, 510.39it/s]\u001b[A\n",
      " 27%|██▋       | 4647/17216 [00:09<00:24, 512.24it/s]\u001b[A"
     ]
    },
    {
     "name": "stdout",
     "output_type": "stream",
     "text": [
      "ENSG00000153132.12 single positional indexer is out-of-bounds\n",
      "ENSG00000197465.13 single positional indexer is out-of-bounds\n",
      "ENSG00000109686.17 single positional indexer is out-of-bounds\n",
      "ENSG00000109466.13 single positional indexer is out-of-bounds\n"
     ]
    },
    {
     "name": "stderr",
     "output_type": "stream",
     "text": [
      "\n",
      " 27%|██▋       | 4699/17216 [00:09<00:24, 509.16it/s]\u001b[A\n",
      " 28%|██▊       | 4750/17216 [00:09<00:24, 506.55it/s]\u001b[A\n",
      " 28%|██▊       | 4803/17216 [00:09<00:24, 510.86it/s]\u001b[A"
     ]
    },
    {
     "name": "stdout",
     "output_type": "stream",
     "text": [
      "ENSG00000205097.6 single positional indexer is out-of-bounds\n",
      "ENSG00000112902.11 single positional indexer is out-of-bounds\n",
      "ENSG00000151388.10 single positional indexer is out-of-bounds\n"
     ]
    },
    {
     "name": "stderr",
     "output_type": "stream",
     "text": [
      "\n",
      " 28%|██▊       | 4855/17216 [00:09<00:24, 507.63it/s]\u001b[A\n",
      " 29%|██▊       | 4908/17216 [00:09<00:24, 512.62it/s]\u001b[A\n",
      " 29%|██▉       | 4960/17216 [00:09<00:24, 509.14it/s]\u001b[A"
     ]
    },
    {
     "name": "stdout",
     "output_type": "stream",
     "text": [
      "ENSG00000145649.7 single positional indexer is out-of-bounds\n",
      "ENSG00000062194.15 single positional indexer is out-of-bounds\n"
     ]
    },
    {
     "name": "stderr",
     "output_type": "stream",
     "text": [
      "\n",
      " 29%|██▉       | 5011/17216 [00:09<00:24, 504.51it/s]\u001b[A\n",
      " 29%|██▉       | 5062/17216 [00:09<00:24, 504.44it/s]\u001b[A\n",
      " 30%|██▉       | 5114/17216 [00:10<00:23, 506.20it/s]\u001b[A\n",
      " 30%|███       | 5165/17216 [00:10<00:23, 506.58it/s]\u001b[A"
     ]
    },
    {
     "name": "stdout",
     "output_type": "stream",
     "text": [
      "ENSG00000164902.13 single positional indexer is out-of-bounds\n",
      "ENSG00000145832.12 single positional indexer is out-of-bounds\n",
      "ENSG00000271824.1 single positional indexer is out-of-bounds\n"
     ]
    },
    {
     "name": "stderr",
     "output_type": "stream",
     "text": [
      "\n",
      " 30%|███       | 5217/17216 [00:10<00:23, 508.91it/s]\u001b[A\n",
      " 31%|███       | 5268/17216 [00:10<00:23, 508.26it/s]\u001b[A\n",
      " 31%|███       | 5319/17216 [00:10<00:23, 508.63it/s]\u001b[A\n",
      " 31%|███       | 5370/17216 [00:10<00:23, 506.08it/s]\u001b[A\n",
      " 31%|███▏      | 5422/17216 [00:10<00:23, 508.22it/s]\u001b[A\n",
      " 32%|███▏      | 5473/17216 [00:10<00:23, 507.25it/s]\u001b[A"
     ]
    },
    {
     "name": "stdout",
     "output_type": "stream",
     "text": [
      "ENSG00000113263.12 single positional indexer is out-of-bounds\n"
     ]
    },
    {
     "name": "stderr",
     "output_type": "stream",
     "text": [
      "\n",
      " 32%|███▏      | 5524/17216 [00:10<00:23, 502.44it/s]\u001b[A\n",
      " 32%|███▏      | 5576/17216 [00:10<00:23, 505.87it/s]\u001b[A\n",
      " 59%|█████▉    | 10239/17216 [00:40<00:14, 477.27it/s][A"
     ]
    },
    {
     "name": "stdout",
     "output_type": "stream",
     "text": [
      "ENSG00000165810.16 single positional indexer is out-of-bounds\n",
      "ENSG00000165810.16 single positional indexer is out-of-bounds\n",
      "ENSG00000146038.11 single positional indexer is out-of-bounds\n"
     ]
    },
    {
     "name": "stderr",
     "output_type": "stream",
     "text": [
      "\n",
      " 33%|███▎      | 5678/17216 [00:11<00:22, 506.01it/s]\u001b[A\n",
      " 33%|███▎      | 5732/17216 [00:11<00:22, 515.02it/s]\u001b[A"
     ]
    },
    {
     "name": "stdout",
     "output_type": "stream",
     "text": [
      "ENSG00000079689.13 single positional indexer is out-of-bounds\n",
      "ENSG00000124564.17 single positional indexer is out-of-bounds\n",
      "ENSG00000197903.7 single positional indexer is out-of-bounds\n",
      "ENSG00000233822.4 single positional indexer is out-of-bounds\n",
      "ENSG00000233822.4 single positional indexer is out-of-bounds\n",
      "ENSG00000197935.6 single positional indexer is out-of-bounds\n",
      "ENSG00000204544.5 single positional indexer is out-of-bounds\n"
     ]
    },
    {
     "name": "stderr",
     "output_type": "stream",
     "text": [
      "\n",
      " 34%|███▎      | 5784/17216 [00:11<00:22, 510.15it/s]\u001b[A\n",
      " 34%|███▍      | 5836/17216 [00:11<00:22, 506.60it/s]\u001b[A\n",
      " 34%|███▍      | 5887/17216 [00:11<00:22, 505.55it/s]\u001b[A\n",
      " 34%|███▍      | 5938/17216 [00:11<00:22, 505.52it/s]\u001b[A\n",
      " 35%|███▍      | 5989/17216 [00:11<00:22, 502.91it/s]\u001b[A\n",
      " 35%|███▌      | 6042/17216 [00:11<00:21, 510.15it/s]\u001b[A\n",
      " 35%|███▌      | 6094/17216 [00:12<00:21, 511.04it/s]\u001b[A"
     ]
    },
    {
     "name": "stdout",
     "output_type": "stream",
     "text": [
      "ENSG00000146070.16 single positional indexer is out-of-bounds\n",
      "ENSG00000096006.11 single positional indexer is out-of-bounds\n",
      "ENSG00000170927.14 single positional indexer is out-of-bounds\n",
      "ENSG00000118482.11 single positional indexer is out-of-bounds\n"
     ]
    },
    {
     "name": "stderr",
     "output_type": "stream",
     "text": [
      "\n",
      " 36%|███▌      | 6146/17216 [00:12<00:21, 506.61it/s]\u001b[A\n",
      " 36%|███▌      | 6197/17216 [00:12<00:21, 505.26it/s]\u001b[A\n",
      " 36%|███▋      | 6249/17216 [00:12<00:21, 506.81it/s]\u001b[A\n",
      " 37%|███▋      | 6301/17216 [00:12<00:21, 508.94it/s]\u001b[A"
     ]
    },
    {
     "name": "stdout",
     "output_type": "stream",
     "text": [
      "ENSG00000112769.18 single positional indexer is out-of-bounds\n",
      "ENSG00000154269.14 single positional indexer is out-of-bounds\n"
     ]
    },
    {
     "name": "stderr",
     "output_type": "stream",
     "text": [
      "\n",
      " 37%|███▋      | 6352/17216 [00:12<00:21, 504.07it/s]\u001b[A\n",
      " 37%|███▋      | 6403/17216 [00:12<00:21, 504.64it/s]\u001b[A\n",
      " 37%|███▋      | 6454/17216 [00:12<00:21, 504.59it/s]\u001b[A\n",
      " 38%|███▊      | 6505/17216 [00:12<00:21, 505.71it/s]\u001b[A\n",
      " 38%|███▊      | 6557/17216 [00:12<00:20, 507.64it/s]\u001b[A"
     ]
    },
    {
     "name": "stdout",
     "output_type": "stream",
     "text": [
      "ENSG00000177706.8 single positional indexer is out-of-bounds\n",
      "ENSG00000003147.17 single positional indexer is out-of-bounds\n",
      "ENSG00000071189.21 single positional indexer is out-of-bounds\n"
     ]
    },
    {
     "name": "stderr",
     "output_type": "stream",
     "text": [
      "\n",
      " 38%|███▊      | 6611/17216 [00:13<00:20, 514.61it/s]\u001b[A\n",
      " 39%|███▊      | 6663/17216 [00:13<00:20, 511.18it/s]\u001b[A"
     ]
    },
    {
     "name": "stdout",
     "output_type": "stream",
     "text": [
      "ENSG00000004846.16 single positional indexer is out-of-bounds\n",
      "ENSG00000196335.12 single positional indexer is out-of-bounds\n",
      "ENSG00000253293.4 single positional indexer is out-of-bounds\n"
     ]
    },
    {
     "name": "stderr",
     "output_type": "stream",
     "text": [
      "\n",
      " 39%|███▉      | 6715/17216 [00:13<00:20, 506.63it/s]\u001b[A\n",
      " 39%|███▉      | 6768/17216 [00:13<00:20, 510.72it/s]\u001b[A\n",
      " 40%|███▉      | 6820/17216 [00:13<00:20, 509.65it/s]\u001b[A"
     ]
    },
    {
     "name": "stdout",
     "output_type": "stream",
     "text": [
      "ENSG00000106078.17 single positional indexer is out-of-bounds\n",
      "ENSG00000185290.3 single positional indexer is out-of-bounds\n",
      "ENSG00000214652.5 single positional indexer is out-of-bounds\n",
      "ENSG00000165171.10 single positional indexer is out-of-bounds\n"
     ]
    },
    {
     "name": "stderr",
     "output_type": "stream",
     "text": [
      "\n",
      " 40%|███▉      | 6871/17216 [00:13<00:20, 506.68it/s]\u001b[A\n",
      " 40%|████      | 6923/17216 [00:13<00:20, 507.82it/s]\u001b[A\n",
      " 41%|████      | 6974/17216 [00:13<00:20, 501.89it/s]\u001b[A\n",
      " 41%|████      | 7025/17216 [00:13<00:20, 501.52it/s]\u001b[A\n",
      " 41%|████      | 7077/17216 [00:13<00:20, 506.48it/s]\u001b[A\n",
      " 41%|████▏     | 7128/17216 [00:14<00:19, 505.21it/s]\u001b[A"
     ]
    },
    {
     "name": "stdout",
     "output_type": "stream",
     "text": [
      "ENSG00000091136.13 single positional indexer is out-of-bounds\n",
      "ENSG00000235631.1 single positional indexer is out-of-bounds\n"
     ]
    },
    {
     "name": "stderr",
     "output_type": "stream",
     "text": [
      "\n",
      " 42%|████▏     | 7179/17216 [00:14<00:20, 501.45it/s]\u001b[A\n",
      " 42%|████▏     | 7230/17216 [00:14<00:24, 404.95it/s]\u001b[A"
     ]
    },
    {
     "name": "stdout",
     "output_type": "stream",
     "text": [
      "ENSG00000257335.8 single positional indexer is out-of-bounds\n",
      "ENSG00000198420.9 single positional indexer is out-of-bounds\n",
      "ENSG00000198420.9 single positional indexer is out-of-bounds\n",
      "ENSG00000213214.4 single positional indexer is out-of-bounds\n"
     ]
    },
    {
     "name": "stderr",
     "output_type": "stream",
     "text": [
      "\n",
      " 42%|████▏     | 7274/17216 [00:14<00:28, 354.44it/s]\u001b[A\n",
      " 43%|████▎     | 7326/17216 [00:14<00:25, 391.64it/s]\u001b[A\n",
      " 43%|████▎     | 7378/17216 [00:14<00:23, 422.01it/s]\u001b[A"
     ]
    },
    {
     "name": "stdout",
     "output_type": "stream",
     "text": [
      "ENSG00000164816.7 single positional indexer is out-of-bounds\n",
      "ENSG00000164816.7 single positional indexer is out-of-bounds\n",
      "ENSG00000205882.8 single positional indexer is out-of-bounds\n",
      "ENSG00000134028.14 single positional indexer is out-of-bounds\n"
     ]
    },
    {
     "name": "stderr",
     "output_type": "stream",
     "text": [
      "\n",
      " 43%|████▎     | 7429/17216 [00:14<00:22, 443.82it/s]\u001b[A\n",
      " 43%|████▎     | 7481/17216 [00:14<00:21, 463.27it/s]\u001b[A\n",
      " 44%|████▍     | 7533/17216 [00:14<00:20, 478.69it/s]\u001b[A"
     ]
    },
    {
     "name": "stdout",
     "output_type": "stream",
     "text": [
      "ENSG00000169154.5 single positional indexer is out-of-bounds\n",
      "ENSG00000197140.14 single positional indexer is out-of-bounds\n"
     ]
    },
    {
     "name": "stderr",
     "output_type": "stream",
     "text": [
      "\n",
      " 44%|████▍     | 7584/17216 [00:15<00:19, 485.25it/s]\u001b[A\n",
      " 44%|████▍     | 7636/17216 [00:15<00:19, 494.34it/s]\u001b[A\n",
      " 45%|████▍     | 7688/17216 [00:15<00:19, 500.37it/s]\u001b[A"
     ]
    },
    {
     "name": "stdout",
     "output_type": "stream",
     "text": [
      "ENSG00000178460.17 single positional indexer is out-of-bounds\n",
      "ENSG00000147614.3 single positional indexer is out-of-bounds\n"
     ]
    },
    {
     "name": "stderr",
     "output_type": "stream",
     "text": [
      "\n",
      " 45%|████▍     | 7739/17216 [00:15<00:18, 499.39it/s]\u001b[A\n",
      " 45%|████▌     | 7791/17216 [00:15<00:18, 503.77it/s]\u001b[A\n",
      " 46%|████▌     | 7843/17216 [00:15<00:18, 507.99it/s]\u001b[A"
     ]
    },
    {
     "name": "stdout",
     "output_type": "stream",
     "text": [
      "ENSG00000147642.16 single positional indexer is out-of-bounds\n",
      "ENSG00000132294.14 single positional indexer is out-of-bounds\n",
      "ENSG00000167656.4 single positional indexer is out-of-bounds\n"
     ]
    },
    {
     "name": "stderr",
     "output_type": "stream",
     "text": [
      "\n",
      " 46%|████▌     | 7895/17216 [00:15<00:18, 501.14it/s]\u001b[A\n",
      " 46%|████▌     | 7947/17216 [00:15<00:18, 506.35it/s]\u001b[A\n",
      " 46%|████▋     | 7999/17216 [00:15<00:18, 508.10it/s]\u001b[A"
     ]
    },
    {
     "name": "stdout",
     "output_type": "stream",
     "text": [
      "ENSG00000107104.18 single positional indexer is out-of-bounds\n",
      "ENSG00000096968.13 single positional indexer is out-of-bounds\n",
      "ENSG00000137033.11 single positional indexer is out-of-bounds\n",
      "ENSG00000137080.4 single positional indexer is out-of-bounds\n"
     ]
    },
    {
     "name": "stderr",
     "output_type": "stream",
     "text": [
      "\n",
      " 47%|████▋     | 8050/17216 [00:16<00:18, 506.92it/s]\u001b[A\n",
      " 47%|████▋     | 8103/17216 [00:16<00:17, 513.23it/s]\u001b[A"
     ]
    },
    {
     "name": "stdout",
     "output_type": "stream",
     "text": [
      "ENSG00000205108.5 single positional indexer is out-of-bounds\n",
      "ENSG00000154529.14 single positional indexer is out-of-bounds\n",
      "ENSG00000154529.14 single positional indexer is out-of-bounds\n",
      "ENSG00000172014.12 single positional indexer is out-of-bounds\n",
      "ENSG00000274349.4 single positional indexer is out-of-bounds\n",
      "ENSG00000187866.8 single positional indexer is out-of-bounds\n"
     ]
    },
    {
     "name": "stderr",
     "output_type": "stream",
     "text": [
      "\n",
      " 47%|████▋     | 8155/17216 [00:16<00:17, 513.44it/s]\u001b[A\n",
      " 48%|████▊     | 8207/17216 [00:16<00:17, 512.28it/s]\u001b[A\n",
      " 48%|████▊     | 8259/17216 [00:16<00:17, 511.73it/s]\u001b[A"
     ]
    },
    {
     "name": "stdout",
     "output_type": "stream",
     "text": [
      "ENSG00000135047.14 single positional indexer is out-of-bounds\n",
      "ENSG00000175787.16 single positional indexer is out-of-bounds\n",
      "ENSG00000198785.4 single positional indexer is out-of-bounds\n",
      "ENSG00000198785.4 single positional indexer is out-of-bounds\n",
      "ENSG00000136824.18 single positional indexer is out-of-bounds\n",
      "ENSG00000136824.18 single positional indexer is out-of-bounds\n"
     ]
    },
    {
     "name": "stderr",
     "output_type": "stream",
     "text": [
      "\n",
      " 48%|████▊     | 8314/17216 [00:16<00:17, 522.15it/s]\u001b[A\n",
      " 49%|████▊     | 8367/17216 [00:16<00:17, 518.96it/s]\u001b[A"
     ]
    },
    {
     "name": "stdout",
     "output_type": "stream",
     "text": [
      "ENSG00000136826.14 single positional indexer is out-of-bounds\n",
      "ENSG00000136826.14 single positional indexer is out-of-bounds\n",
      "ENSG00000136810.12 single positional indexer is out-of-bounds\n",
      "ENSG00000157693.14 single positional indexer is out-of-bounds\n",
      "ENSG00000136834.3 single positional indexer is out-of-bounds\n"
     ]
    },
    {
     "name": "stderr",
     "output_type": "stream",
     "text": [
      "\n",
      " 49%|████▉     | 8419/17216 [00:16<00:17, 515.43it/s]\u001b[A\n",
      " 49%|████▉     | 8471/17216 [00:16<00:17, 511.58it/s]\u001b[A\n",
      " 50%|████▉     | 8523/17216 [00:16<00:17, 510.95it/s]\u001b[A\n",
      " 50%|████▉     | 8575/17216 [00:17<00:17, 506.75it/s]\u001b[A"
     ]
    },
    {
     "name": "stdout",
     "output_type": "stream",
     "text": [
      "ENSG00000130717.12 single positional indexer is out-of-bounds\n"
     ]
    },
    {
     "name": "stderr",
     "output_type": "stream",
     "text": [
      "\n",
      " 50%|█████     | 8626/17216 [00:17<00:17, 504.91it/s]\u001b[A\n",
      " 50%|█████     | 8678/17216 [00:17<00:16, 508.52it/s]\u001b[A"
     ]
    },
    {
     "name": "stdout",
     "output_type": "stream",
     "text": [
      "ENSG00000107937.18 single positional indexer is out-of-bounds\n",
      "ENSG00000196139.13 single positional indexer is out-of-bounds\n",
      "ENSG00000196139.13 single positional indexer is out-of-bounds\n"
     ]
    },
    {
     "name": "stderr",
     "output_type": "stream",
     "text": [
      "\n",
      " 51%|█████     | 8729/17216 [00:17<00:16, 504.80it/s]\u001b[A\n",
      " 51%|█████     | 8781/17216 [00:17<00:16, 508.27it/s]\u001b[A\n",
      " 51%|█████▏    | 8832/17216 [00:17<00:16, 506.38it/s]\u001b[A"
     ]
    },
    {
     "name": "stdout",
     "output_type": "stream",
     "text": [
      "ENSG00000095739.10 single positional indexer is out-of-bounds\n",
      "ENSG00000107968.9 single positional indexer is out-of-bounds\n"
     ]
    },
    {
     "name": "stderr",
     "output_type": "stream",
     "text": [
      "\n",
      " 52%|█████▏    | 8883/17216 [00:17<00:16, 502.95it/s]\u001b[A\n",
      " 52%|█████▏    | 8934/17216 [00:17<00:16, 501.80it/s]\u001b[A\n",
      " 52%|█████▏    | 8986/17216 [00:17<00:16, 505.09it/s]\u001b[A\n",
      " 52%|█████▏    | 9037/17216 [00:17<00:16, 505.55it/s]\u001b[A"
     ]
    },
    {
     "name": "stdout",
     "output_type": "stream",
     "text": [
      "ENSG00000204033.9 single positional indexer is out-of-bounds\n"
     ]
    },
    {
     "name": "stderr",
     "output_type": "stream",
     "text": [
      "\n",
      " 53%|█████▎    | 9088/17216 [00:18<00:16, 501.67it/s]\u001b[A\n",
      " 53%|█████▎    | 9139/17216 [00:18<00:16, 503.91it/s]\u001b[A\n",
      " 53%|█████▎    | 9190/17216 [00:18<00:15, 502.54it/s]\u001b[A\n",
      " 54%|█████▎    | 9243/17216 [00:18<00:15, 507.99it/s]\u001b[A\n",
      " 54%|█████▍    | 9294/17216 [00:18<00:15, 508.30it/s]\u001b[A"
     ]
    },
    {
     "name": "stdout",
     "output_type": "stream",
     "text": [
      "ENSG00000151892.14 single positional indexer is out-of-bounds\n",
      "ENSG00000187908.16 single positional indexer is out-of-bounds\n",
      "ENSG00000196177.12 single positional indexer is out-of-bounds\n"
     ]
    },
    {
     "name": "stderr",
     "output_type": "stream",
     "text": [
      "\n",
      " 54%|█████▍    | 9345/17216 [00:18<00:15, 503.60it/s]\u001b[A\n",
      " 55%|█████▍    | 9397/17216 [00:18<00:15, 505.66it/s]\u001b[A"
     ]
    },
    {
     "name": "stdout",
     "output_type": "stream",
     "text": [
      "ENSG00000177951.17 single positional indexer is out-of-bounds\n",
      "ENSG00000021762.19 single positional indexer is out-of-bounds\n",
      "ENSG00000167332.7 single positional indexer is out-of-bounds\n"
     ]
    },
    {
     "name": "stderr",
     "output_type": "stream",
     "text": [
      "\n",
      " 55%|█████▍    | 9450/17216 [00:18<00:15, 511.75it/s]\u001b[A\n",
      " 55%|█████▌    | 9502/17216 [00:18<00:15, 510.33it/s]\u001b[A"
     ]
    },
    {
     "name": "stdout",
     "output_type": "stream",
     "text": [
      "ENSG00000181074.3 single positional indexer is out-of-bounds\n",
      "ENSG00000181074.3 single positional indexer is out-of-bounds\n",
      "ENSG00000180988.2 single positional indexer is out-of-bounds\n"
     ]
    },
    {
     "name": "stderr",
     "output_type": "stream",
     "text": [
      "\n",
      " 55%|█████▌    | 9554/17216 [00:18<00:15, 509.03it/s]\u001b[A\n",
      " 56%|█████▌    | 9606/17216 [00:19<00:14, 510.15it/s]\u001b[A"
     ]
    },
    {
     "name": "stdout",
     "output_type": "stream",
     "text": [
      "ENSG00000185238.12 single positional indexer is out-of-bounds\n",
      "ENSG00000149100.12 single positional indexer is out-of-bounds\n"
     ]
    },
    {
     "name": "stderr",
     "output_type": "stream",
     "text": [
      "\n",
      " 56%|█████▌    | 9658/17216 [00:19<00:14, 511.73it/s]\u001b[A\n",
      " 56%|█████▋    | 9715/17216 [00:19<00:14, 526.19it/s]\u001b[A"
     ]
    },
    {
     "name": "stdout",
     "output_type": "stream",
     "text": [
      "ENSG00000086205.16 single positional indexer is out-of-bounds\n",
      "ENSG00000086205.16 single positional indexer is out-of-bounds\n",
      "ENSG00000198561.13 single positional indexer is out-of-bounds\n",
      "ENSG00000242689.2 single positional indexer is out-of-bounds\n",
      "ENSG00000197629.5 single positional indexer is out-of-bounds\n",
      "ENSG00000166902.4 single positional indexer is out-of-bounds\n",
      "ENSG00000134827.7 single positional indexer is out-of-bounds\n",
      "ENSG00000166928.10 single positional indexer is out-of-bounds\n",
      "ENSG00000166959.7 single positional indexer is out-of-bounds\n"
     ]
    },
    {
     "name": "stderr",
     "output_type": "stream",
     "text": [
      "\n",
      " 57%|█████▋    | 9768/17216 [00:19<00:14, 517.70it/s]\u001b[A\n",
      " 57%|█████▋    | 9820/17216 [00:19<00:14, 515.91it/s]\u001b[A\n",
      " 57%|█████▋    | 9872/17216 [00:19<00:14, 512.63it/s]\u001b[A"
     ]
    },
    {
     "name": "stdout",
     "output_type": "stream",
     "text": [
      "ENSG00000162302.12 single positional indexer is out-of-bounds\n",
      "ENSG00000173621.8 single positional indexer is out-of-bounds\n"
     ]
    },
    {
     "name": "stderr",
     "output_type": "stream",
     "text": [
      "\n",
      " 58%|█████▊    | 9924/17216 [00:19<00:14, 510.27it/s]\u001b[A\n",
      " 58%|█████▊    | 9976/17216 [00:19<00:14, 510.99it/s]\u001b[A\n",
      " 58%|█████▊    | 10028/17216 [00:19<00:14, 508.36it/s]\u001b[A"
     ]
    },
    {
     "name": "stdout",
     "output_type": "stream",
     "text": [
      "ENSG00000162344.3 single positional indexer is out-of-bounds\n"
     ]
    },
    {
     "name": "stderr",
     "output_type": "stream",
     "text": [
      "\n",
      " 59%|█████▊    | 10079/17216 [00:19<00:14, 507.84it/s]\u001b[A\n",
      " 59%|█████▉    | 10134/17216 [00:20<00:13, 518.58it/s]\u001b[A"
     ]
    },
    {
     "name": "stdout",
     "output_type": "stream",
     "text": [
      "ENSG00000137501.17 single positional indexer is out-of-bounds\n",
      "ENSG00000086991.12 single positional indexer is out-of-bounds\n",
      "ENSG00000086991.12 single positional indexer is out-of-bounds\n",
      "ENSG00000086991.12 single positional indexer is out-of-bounds\n",
      "ENSG00000165323.15 single positional indexer is out-of-bounds\n",
      "ENSG00000168876.8 single positional indexer is out-of-bounds\n",
      "ENSG00000137673.8 single positional indexer is out-of-bounds\n"
     ]
    },
    {
     "name": "stderr",
     "output_type": "stream",
     "text": [
      "\n",
      " 59%|█████▉    | 10186/17216 [00:20<00:13, 511.20it/s]\u001b[A\n",
      " 59%|█████▉    | 10238/17216 [00:20<00:13, 509.46it/s]\u001b[A\n",
      " 60%|█████▉    | 10289/17216 [00:20<00:13, 496.46it/s]\u001b[A\n",
      " 60%|██████    | 10339/17216 [00:20<00:14, 490.14it/s]\u001b[A"
     ]
    },
    {
     "name": "stdout",
     "output_type": "stream",
     "text": [
      "ENSG00000166261.10 single positional indexer is out-of-bounds\n",
      "ENSG00000110002.15 single positional indexer is out-of-bounds\n",
      "ENSG00000255298.2 single positional indexer is out-of-bounds\n",
      "ENSG00000196844.8 single positional indexer is out-of-bounds\n"
     ]
    },
    {
     "name": "stderr",
     "output_type": "stream",
     "text": [
      "\n",
      " 60%|██████    | 10389/17216 [00:20<00:14, 477.02it/s]\u001b[A\n",
      " 61%|██████    | 10437/17216 [00:20<00:14, 469.02it/s]\u001b[A\n",
      " 61%|██████    | 10485/17216 [00:20<00:14, 465.54it/s]\u001b[A\n",
      " 61%|██████    | 10532/17216 [00:20<00:14, 464.03it/s]\u001b[A\n",
      " 61%|██████▏   | 10579/17216 [00:21<00:14, 462.62it/s]\u001b[A"
     ]
    },
    {
     "name": "stdout",
     "output_type": "stream",
     "text": [
      "ENSG00000178878.12 single positional indexer is out-of-bounds\n"
     ]
    },
    {
     "name": "stderr",
     "output_type": "stream",
     "text": [
      "\n",
      " 62%|██████▏   | 10626/17216 [00:21<00:14, 457.45it/s]\u001b[A\n",
      " 62%|██████▏   | 10672/17216 [00:21<00:14, 451.00it/s]\u001b[A\n",
      " 62%|██████▏   | 10719/17216 [00:21<00:14, 455.10it/s]\u001b[A"
     ]
    },
    {
     "name": "stdout",
     "output_type": "stream",
     "text": [
      "ENSG00000197376.2 single positional indexer is out-of-bounds\n",
      "ENSG00000129315.10 single positional indexer is out-of-bounds\n",
      "ENSG00000123268.8 single positional indexer is out-of-bounds\n"
     ]
    },
    {
     "name": "stderr",
     "output_type": "stream",
     "text": [
      "\n",
      " 63%|██████▎   | 10766/17216 [00:21<00:14, 456.44it/s]\u001b[A\n",
      " 63%|██████▎   | 10814/17216 [00:21<00:13, 462.04it/s]\u001b[A\n",
      " 63%|██████▎   | 10861/17216 [00:21<00:13, 463.10it/s]\u001b[A"
     ]
    },
    {
     "name": "stdout",
     "output_type": "stream",
     "text": [
      "ENSG00000172819.16 single positional indexer is out-of-bounds\n",
      "ENSG00000185591.9 single positional indexer is out-of-bounds\n",
      "ENSG00000135426.15 single positional indexer is out-of-bounds\n"
     ]
    },
    {
     "name": "stderr",
     "output_type": "stream",
     "text": [
      "\n",
      " 63%|██████▎   | 10908/17216 [00:21<00:13, 458.95it/s]\u001b[A\n",
      " 64%|██████▎   | 10954/17216 [00:21<00:13, 456.57it/s]\u001b[A\n",
      " 64%|██████▍   | 11000/17216 [00:21<00:13, 456.54it/s]\u001b[A\n",
      " 64%|██████▍   | 11047/17216 [00:22<00:13, 458.98it/s]\u001b[A\n",
      " 64%|██████▍   | 11093/17216 [00:22<00:13, 457.64it/s]\u001b[A"
     ]
    },
    {
     "name": "stdout",
     "output_type": "stream",
     "text": [
      "ENSG00000205057.4 single positional indexer is out-of-bounds\n"
     ]
    },
    {
     "name": "stderr",
     "output_type": "stream",
     "text": [
      "\n",
      " 65%|██████▍   | 11139/17216 [00:22<00:13, 455.65it/s]\u001b[A\n",
      " 65%|██████▍   | 11185/17216 [00:22<00:13, 454.40it/s]\u001b[A\n",
      " 65%|██████▌   | 11231/17216 [00:22<00:13, 453.73it/s]\u001b[A\n",
      " 66%|██████▌   | 11277/17216 [00:22<00:13, 453.59it/s]\u001b[A\n",
      " 66%|██████▌   | 11323/17216 [00:22<00:12, 454.71it/s]\u001b[A\n",
      " 66%|██████▌   | 11369/17216 [00:22<00:12, 455.12it/s]\u001b[A"
     ]
    },
    {
     "name": "stdout",
     "output_type": "stream",
     "text": [
      "ENSG00000090612.20 single positional indexer is out-of-bounds\n"
     ]
    },
    {
     "name": "stderr",
     "output_type": "stream",
     "text": [
      "\n",
      " 66%|██████▋   | 11415/17216 [00:22<00:12, 453.37it/s]\u001b[A\n",
      " 67%|██████▋   | 11461/17216 [00:22<00:12, 455.13it/s]\u001b[A\n",
      " 67%|██████▋   | 11507/17216 [00:23<00:12, 454.80it/s]\u001b[A\n",
      " 67%|██████▋   | 11554/17216 [00:23<00:12, 458.04it/s]\u001b[A\n",
      " 67%|██████▋   | 11601/17216 [00:23<00:12, 460.09it/s]\u001b[A"
     ]
    },
    {
     "name": "stdout",
     "output_type": "stream",
     "text": [
      "ENSG00000178695.5 single positional indexer is out-of-bounds\n",
      "ENSG00000134899.18 single positional indexer is out-of-bounds\n"
     ]
    },
    {
     "name": "stderr",
     "output_type": "stream",
     "text": [
      "\n",
      " 68%|██████▊   | 11655/17216 [00:23<00:11, 479.24it/s]\u001b[A\n",
      " 68%|██████▊   | 11704/17216 [00:23<00:11, 474.56it/s]\u001b[A"
     ]
    },
    {
     "name": "stdout",
     "output_type": "stream",
     "text": [
      "ENSG00000198824.5 single positional indexer is out-of-bounds\n",
      "ENSG00000187537.13 single positional indexer is out-of-bounds\n",
      "ENSG00000187537.13 single positional indexer is out-of-bounds\n",
      "ENSG00000187537.13 single positional indexer is out-of-bounds\n",
      "ENSG00000187537.13 single positional indexer is out-of-bounds\n",
      "ENSG00000198805.11 single positional indexer is out-of-bounds\n",
      "ENSG00000198805.11 single positional indexer is out-of-bounds\n",
      "ENSG00000214274.9 single positional indexer is out-of-bounds\n",
      "ENSG00000165795.23 single positional indexer is out-of-bounds\n",
      "ENSG00000165804.15 single positional indexer is out-of-bounds\n",
      "ENSG00000165804.15 single positional indexer is out-of-bounds\n",
      "ENSG00000100804.18 single positional indexer is out-of-bounds\n"
     ]
    },
    {
     "name": "stderr",
     "output_type": "stream",
     "text": [
      "\n",
      " 68%|██████▊   | 11752/17216 [00:23<00:11, 465.15it/s]\u001b[A\n",
      " 69%|██████▊   | 11799/17216 [00:23<00:11, 465.81it/s]\u001b[A\n",
      " 69%|██████▉   | 11846/17216 [00:23<00:11, 462.06it/s]\u001b[A"
     ]
    },
    {
     "name": "stdout",
     "output_type": "stream",
     "text": [
      "ENSG00000165379.13 single positional indexer is out-of-bounds\n",
      "ENSG00000139977.13 single positional indexer is out-of-bounds\n",
      "ENSG00000179008.8 single positional indexer is out-of-bounds\n"
     ]
    },
    {
     "name": "stderr",
     "output_type": "stream",
     "text": [
      "\n",
      " 69%|██████▉   | 11893/17216 [00:23<00:11, 463.19it/s]\u001b[A\n",
      " 69%|██████▉   | 11940/17216 [00:24<00:11, 461.40it/s]\u001b[A\n",
      " 70%|██████▉   | 11987/17216 [00:24<00:11, 458.11it/s]\u001b[A\n",
      " 70%|██████▉   | 12033/17216 [00:24<00:11, 456.94it/s]\u001b[A\n",
      " 70%|███████   | 12079/17216 [00:24<00:11, 456.08it/s]\u001b[A\n",
      " 70%|███████   | 12126/17216 [00:24<00:11, 457.40it/s]\u001b[A\n",
      " 71%|███████   | 12172/17216 [00:24<00:11, 456.82it/s]\u001b[A\n",
      " 71%|███████   | 12222/17216 [00:24<00:10, 468.00it/s]\u001b[A\n",
      " 71%|███████▏  | 12269/17216 [00:24<00:10, 465.85it/s]\u001b[A"
     ]
    },
    {
     "name": "stdout",
     "output_type": "stream",
     "text": [
      "ENSG00000184986.10 single positional indexer is out-of-bounds\n",
      "ENSG00000184986.10 single positional indexer is out-of-bounds\n",
      "ENSG00000184986.10 single positional indexer is out-of-bounds\n",
      "ENSG00000261739.2 single positional indexer is out-of-bounds\n",
      "ENSG00000104067.16 single positional indexer is out-of-bounds\n",
      "ENSG00000172575.11 single positional indexer is out-of-bounds\n"
     ]
    },
    {
     "name": "stderr",
     "output_type": "stream",
     "text": [
      "\n",
      " 72%|███████▏  | 12316/17216 [00:24<00:10, 460.36it/s]\u001b[A\n",
      " 72%|███████▏  | 12363/17216 [00:24<00:10, 459.26it/s]\u001b[A\n",
      " 72%|███████▏  | 12409/17216 [00:25<00:10, 458.07it/s]\u001b[A\n",
      " 72%|███████▏  | 12455/17216 [00:25<00:10, 457.74it/s]\u001b[A\n",
      " 73%|███████▎  | 12501/17216 [00:25<00:10, 447.01it/s]\u001b[A\n",
      " 73%|███████▎  | 12550/17216 [00:25<00:10, 458.54it/s]\u001b[A\n",
      " 73%|███████▎  | 12598/17216 [00:25<00:09, 464.02it/s]\u001b[A"
     ]
    },
    {
     "name": "stdout",
     "output_type": "stream",
     "text": [
      "ENSG00000205363.5 single positional indexer is out-of-bounds\n",
      "ENSG00000140464.19 single positional indexer is out-of-bounds\n",
      "ENSG00000137868.18 single positional indexer is out-of-bounds\n",
      "ENSG00000167173.18 single positional indexer is out-of-bounds\n",
      "ENSG00000167173.18 single positional indexer is out-of-bounds\n"
     ]
    },
    {
     "name": "stderr",
     "output_type": "stream",
     "text": [
      "\n",
      " 73%|███████▎  | 12645/17216 [00:25<00:09, 460.03it/s]\u001b[A\n",
      " 74%|███████▎  | 12692/17216 [00:25<00:09, 458.66it/s]\u001b[A\n",
      " 74%|███████▍  | 12738/17216 [00:25<00:09, 455.97it/s]\u001b[A\n",
      " 74%|███████▍  | 12784/17216 [00:25<00:09, 454.51it/s]\u001b[A\n",
      " 75%|███████▍  | 12830/17216 [00:25<00:09, 454.50it/s]\u001b[A\n",
      " 75%|███████▍  | 12877/17216 [00:26<00:09, 456.77it/s]\u001b[A\n",
      " 75%|███████▌  | 12923/17216 [00:26<00:09, 455.39it/s]\u001b[A"
     ]
    },
    {
     "name": "stdout",
     "output_type": "stream",
     "text": [
      "ENSG00000008517.16 single positional indexer is out-of-bounds\n"
     ]
    },
    {
     "name": "stderr",
     "output_type": "stream",
     "text": [
      "\n",
      " 75%|███████▌  | 12969/17216 [00:26<00:09, 451.80it/s]\u001b[A\n",
      " 76%|███████▌  | 13016/17216 [00:26<00:09, 454.90it/s]\u001b[A\n",
      " 76%|███████▌  | 13062/17216 [00:26<00:09, 454.67it/s]\u001b[A"
     ]
    },
    {
     "name": "stdout",
     "output_type": "stream",
     "text": [
      "ENSG00000169347.16 single positional indexer is out-of-bounds\n",
      "ENSG00000213648.10 single positional indexer is out-of-bounds\n"
     ]
    },
    {
     "name": "stderr",
     "output_type": "stream",
     "text": [
      "\n",
      " 76%|███████▌  | 13108/17216 [00:26<00:09, 455.02it/s]\u001b[A\n",
      " 76%|███████▋  | 13154/17216 [00:26<00:08, 455.46it/s]\u001b[A\n",
      " 77%|███████▋  | 13201/17216 [00:26<00:08, 458.06it/s]\u001b[A\n",
      " 77%|███████▋  | 13247/17216 [00:26<00:08, 457.47it/s]\u001b[A\n",
      " 77%|███████▋  | 13295/17216 [00:26<00:08, 462.40it/s]\u001b[A\n",
      " 77%|███████▋  | 13342/17216 [00:27<00:08, 461.92it/s]\u001b[A"
     ]
    },
    {
     "name": "stdout",
     "output_type": "stream",
     "text": [
      "ENSG00000125166.12 single positional indexer is out-of-bounds\n",
      "ENSG00000159593.14 single positional indexer is out-of-bounds\n"
     ]
    },
    {
     "name": "stderr",
     "output_type": "stream",
     "text": [
      "\n",
      " 78%|███████▊  | 13389/17216 [00:27<00:08, 457.93it/s]\u001b[A\n",
      " 78%|███████▊  | 13435/17216 [00:27<00:08, 455.66it/s]\u001b[A\n",
      " 78%|███████▊  | 13481/17216 [00:27<00:08, 455.14it/s]\u001b[A\n",
      " 79%|███████▊  | 13527/17216 [00:27<00:08, 453.57it/s]\u001b[A\n",
      " 79%|███████▉  | 13573/17216 [00:27<00:08, 451.60it/s]\u001b[A"
     ]
    },
    {
     "name": "stdout",
     "output_type": "stream",
     "text": [
      "ENSG00000141013.16 single positional indexer is out-of-bounds\n"
     ]
    },
    {
     "name": "stderr",
     "output_type": "stream",
     "text": [
      "\n",
      " 79%|███████▉  | 13619/17216 [00:27<00:08, 448.62it/s]\u001b[A\n",
      " 79%|███████▉  | 13667/17216 [00:27<00:07, 457.19it/s]\u001b[A\n",
      " 80%|███████▉  | 13713/17216 [00:27<00:07, 457.13it/s]\u001b[A"
     ]
    },
    {
     "name": "stdout",
     "output_type": "stream",
     "text": [
      "ENSG00000179314.13 single positional indexer is out-of-bounds\n",
      "ENSG00000169992.9 single positional indexer is out-of-bounds\n",
      "ENSG00000169992.9 single positional indexer is out-of-bounds\n"
     ]
    },
    {
     "name": "stderr",
     "output_type": "stream",
     "text": [
      "\n",
      " 80%|███████▉  | 13759/17216 [00:27<00:07, 454.58it/s]\u001b[A\n",
      " 80%|████████  | 13805/17216 [00:28<00:07, 455.60it/s]\u001b[A\n",
      " 80%|████████  | 13852/17216 [00:28<00:07, 459.39it/s]\u001b[A"
     ]
    },
    {
     "name": "stdout",
     "output_type": "stream",
     "text": [
      "ENSG00000213077.5 single positional indexer is out-of-bounds\n",
      "ENSG00000244045.12 single positional indexer is out-of-bounds\n"
     ]
    },
    {
     "name": "stderr",
     "output_type": "stream",
     "text": [
      "\n",
      " 81%|████████  | 13898/17216 [00:28<00:07, 457.27it/s]\u001b[A\n",
      " 81%|████████  | 13945/17216 [00:28<00:07, 458.54it/s]\u001b[A\n",
      " 81%|████████▏ | 13995/17216 [00:28<00:06, 469.53it/s]\u001b[A\n",
      " 82%|████████▏ | 14045/17216 [00:28<00:06, 477.48it/s]\u001b[A"
     ]
    },
    {
     "name": "stdout",
     "output_type": "stream",
     "text": [
      "ENSG00000276070.4 single positional indexer is out-of-bounds\n",
      "ENSG00000276070.4 single positional indexer is out-of-bounds\n",
      "ENSG00000278053.4 single positional indexer is out-of-bounds\n",
      "ENSG00000274419.6 single positional indexer is out-of-bounds\n",
      "ENSG00000273559.4 single positional indexer is out-of-bounds\n",
      "ENSG00000167258.13 single positional indexer is out-of-bounds\n",
      "ENSG00000188581.8 single positional indexer is out-of-bounds\n",
      "ENSG00000188581.8 single positional indexer is out-of-bounds\n",
      "ENSG00000188581.8 single positional indexer is out-of-bounds\n",
      "ENSG00000188581.8 single positional indexer is out-of-bounds\n",
      "ENSG00000108759.3 single positional indexer is out-of-bounds\n"
     ]
    },
    {
     "name": "stderr",
     "output_type": "stream",
     "text": [
      "\n",
      " 82%|████████▏ | 14093/17216 [00:28<00:06, 474.15it/s]\u001b[A\n",
      " 82%|████████▏ | 14141/17216 [00:28<00:06, 471.74it/s]\u001b[A"
     ]
    },
    {
     "name": "stdout",
     "output_type": "stream",
     "text": [
      "ENSG00000173812.10 single positional indexer is out-of-bounds\n",
      "ENSG00000131471.6 single positional indexer is out-of-bounds\n"
     ]
    },
    {
     "name": "stderr",
     "output_type": "stream",
     "text": [
      "\n",
      " 82%|████████▏ | 14189/17216 [00:28<00:06, 463.38it/s]\u001b[A\n",
      " 83%|████████▎ | 14236/17216 [00:29<00:06, 463.93it/s]\u001b[A\n",
      " 83%|████████▎ | 14283/17216 [00:29<00:06, 463.70it/s]\u001b[A"
     ]
    },
    {
     "name": "stdout",
     "output_type": "stream",
     "text": [
      "ENSG00000141293.15 single positional indexer is out-of-bounds\n",
      "ENSG00000108960.7 single positional indexer is out-of-bounds\n",
      "ENSG00000108375.12 single positional indexer is out-of-bounds\n"
     ]
    },
    {
     "name": "stderr",
     "output_type": "stream",
     "text": [
      "\n",
      " 83%|████████▎ | 14330/17216 [00:29<00:06, 464.52it/s]\u001b[A\n",
      " 84%|████████▎ | 14377/17216 [00:29<00:06, 461.16it/s]\u001b[A"
     ]
    },
    {
     "name": "stdout",
     "output_type": "stream",
     "text": [
      "ENSG00000121101.15 single positional indexer is out-of-bounds\n",
      "ENSG00000213218.10 single positional indexer is out-of-bounds\n",
      "ENSG00000075461.5 single positional indexer is out-of-bounds\n"
     ]
    },
    {
     "name": "stderr",
     "output_type": "stream",
     "text": [
      "\n",
      " 84%|████████▍ | 14424/17216 [00:29<00:06, 458.22it/s]\u001b[A\n",
      " 84%|████████▍ | 14470/17216 [00:29<00:06, 454.14it/s]\u001b[A"
     ]
    },
    {
     "name": "stdout",
     "output_type": "stream",
     "text": [
      "ENSG00000182040.8 single positional indexer is out-of-bounds\n"
     ]
    },
    {
     "name": "stderr",
     "output_type": "stream",
     "text": [
      "\n",
      " 84%|████████▍ | 14516/17216 [00:29<00:06, 449.90it/s]\u001b[A\n",
      " 85%|████████▍ | 14562/17216 [00:29<00:05, 450.06it/s]\u001b[A\n",
      " 85%|████████▍ | 14608/17216 [00:29<00:05, 449.16it/s]\u001b[A\n",
      " 85%|████████▌ | 14656/17216 [00:29<00:05, 455.33it/s]\u001b[A\n",
      " 85%|████████▌ | 14703/17216 [00:30<00:05, 458.38it/s]\u001b[A"
     ]
    },
    {
     "name": "stdout",
     "output_type": "stream",
     "text": [
      "ENSG00000154864.11 single positional indexer is out-of-bounds\n",
      "ENSG00000176136.6 single positional indexer is out-of-bounds\n",
      "ENSG00000175322.11 single positional indexer is out-of-bounds\n",
      "ENSG00000134760.5 single positional indexer is out-of-bounds\n"
     ]
    },
    {
     "name": "stderr",
     "output_type": "stream",
     "text": [
      "\n",
      " 86%|████████▌ | 14749/17216 [00:30<00:05, 454.53it/s]\u001b[A\n",
      " 86%|████████▌ | 14795/17216 [00:30<00:05, 455.26it/s]\u001b[A\n",
      " 86%|████████▌ | 14842/17216 [00:30<00:05, 457.40it/s]\u001b[A\n",
      " 86%|████████▋ | 14888/17216 [00:30<00:05, 454.28it/s]\u001b[A"
     ]
    },
    {
     "name": "stdout",
     "output_type": "stream",
     "text": [
      "ENSG00000179981.9 single positional indexer is out-of-bounds\n"
     ]
    },
    {
     "name": "stderr",
     "output_type": "stream",
     "text": [
      "\n",
      " 87%|████████▋ | 14934/17216 [00:30<00:05, 451.21it/s]\u001b[A\n",
      " 87%|████████▋ | 14980/17216 [00:30<00:04, 450.94it/s]\u001b[A\n",
      " 87%|████████▋ | 15027/17216 [00:30<00:04, 453.96it/s]\u001b[A\n",
      " 88%|████████▊ | 15073/17216 [00:30<00:04, 453.01it/s]\u001b[A"
     ]
    },
    {
     "name": "stdout",
     "output_type": "stream",
     "text": [
      "ENSG00000196365.11 single positional indexer is out-of-bounds\n",
      "ENSG00000188000.3 single positional indexer is out-of-bounds\n"
     ]
    },
    {
     "name": "stderr",
     "output_type": "stream",
     "text": [
      "\n",
      " 88%|████████▊ | 15119/17216 [00:30<00:04, 454.30it/s]\u001b[A\n",
      " 88%|████████▊ | 15165/17216 [00:31<00:04, 455.44it/s]\u001b[A"
     ]
    },
    {
     "name": "stdout",
     "output_type": "stream",
     "text": [
      "ENSG00000080573.6 single positional indexer is out-of-bounds\n"
     ]
    },
    {
     "name": "stderr",
     "output_type": "stream",
     "text": [
      "\n",
      " 88%|████████▊ | 15211/17216 [00:31<00:04, 453.24it/s]\u001b[A\n",
      " 89%|████████▊ | 15259/17216 [00:31<00:04, 459.72it/s]\u001b[A\n",
      " 89%|████████▉ | 15305/17216 [00:31<00:04, 458.98it/s]\u001b[A"
     ]
    },
    {
     "name": "stdout",
     "output_type": "stream",
     "text": [
      "ENSG00000105143.12 single positional indexer is out-of-bounds\n",
      "ENSG00000171954.12 single positional indexer is out-of-bounds\n",
      "ENSG00000196684.12 single positional indexer is out-of-bounds\n"
     ]
    },
    {
     "name": "stderr",
     "output_type": "stream",
     "text": [
      "\n",
      " 89%|████████▉ | 15351/17216 [00:31<00:04, 455.25it/s]\u001b[A\n",
      " 89%|████████▉ | 15397/17216 [00:31<00:03, 455.33it/s]\u001b[A\n",
      " 90%|████████▉ | 15443/17216 [00:31<00:03, 453.69it/s]\u001b[A"
     ]
    },
    {
     "name": "stdout",
     "output_type": "stream",
     "text": [
      "ENSG00000196109.6 single positional indexer is out-of-bounds\n",
      "ENSG00000089327.14 single positional indexer is out-of-bounds\n"
     ]
    },
    {
     "name": "stderr",
     "output_type": "stream",
     "text": [
      "\n",
      " 90%|████████▉ | 15489/17216 [00:31<00:03, 455.32it/s]\u001b[A\n",
      " 90%|█████████ | 15535/17216 [00:31<00:03, 454.10it/s]\u001b[A\n",
      " 91%|█████████ | 15581/17216 [00:31<00:03, 454.50it/s]\u001b[A\n",
      " 91%|█████████ | 15628/17216 [00:32<00:03, 456.92it/s]\u001b[A\n",
      " 91%|█████████ | 15676/17216 [00:32<00:03, 462.64it/s]\u001b[A"
     ]
    },
    {
     "name": "stdout",
     "output_type": "stream",
     "text": [
      "ENSG00000170956.16 single positional indexer is out-of-bounds\n",
      "ENSG00000079385.21 single positional indexer is out-of-bounds\n",
      "ENSG00000221878.12 single positional indexer is out-of-bounds\n"
     ]
    },
    {
     "name": "stderr",
     "output_type": "stream",
     "text": [
      "\n",
      " 91%|█████████▏| 15723/17216 [00:32<00:03, 456.86it/s]\u001b[A\n",
      " 92%|█████████▏| 15769/17216 [00:32<00:03, 454.42it/s]\u001b[A\n",
      " 92%|█████████▏| 15817/17216 [00:32<00:03, 460.32it/s]\u001b[A\n",
      " 92%|█████████▏| 15864/17216 [00:32<00:02, 457.70it/s]\u001b[A"
     ]
    },
    {
     "name": "stdout",
     "output_type": "stream",
     "text": [
      "ENSG00000178980.14 single positional indexer is out-of-bounds\n",
      "ENSG00000105398.3 single positional indexer is out-of-bounds\n",
      "ENSG00000161558.10 single positional indexer is out-of-bounds\n"
     ]
    },
    {
     "name": "stderr",
     "output_type": "stream",
     "text": [
      "\n",
      " 92%|█████████▏| 15910/17216 [00:32<00:02, 454.79it/s]\u001b[A\n",
      " 93%|█████████▎| 15957/17216 [00:32<00:02, 457.76it/s]\u001b[A\n",
      " 93%|█████████▎| 16003/17216 [00:32<00:02, 456.71it/s]\u001b[A"
     ]
    },
    {
     "name": "stdout",
     "output_type": "stream",
     "text": [
      "ENSG00000105383.14 single positional indexer is out-of-bounds\n",
      "ENSG00000105366.15 single positional indexer is out-of-bounds\n",
      "ENSG00000197928.10 single positional indexer is out-of-bounds\n"
     ]
    },
    {
     "name": "stderr",
     "output_type": "stream",
     "text": [
      "\n",
      " 93%|█████████▎| 16049/17216 [00:32<00:02, 455.22it/s]\u001b[A\n",
      " 94%|█████████▎| 16097/17216 [00:33<00:02, 460.12it/s]\u001b[A"
     ]
    },
    {
     "name": "stdout",
     "output_type": "stream",
     "text": [
      "ENSG00000063241.7 single positional indexer is out-of-bounds\n",
      "ENSG00000198300.12 single positional indexer is out-of-bounds\n"
     ]
    },
    {
     "name": "stderr",
     "output_type": "stream",
     "text": [
      "\n",
      " 94%|█████████▍| 16144/17216 [00:33<00:02, 453.89it/s]\u001b[A\n",
      " 94%|█████████▍| 16190/17216 [00:33<00:02, 452.02it/s]\u001b[A\n",
      " 94%|█████████▍| 16236/17216 [00:33<00:02, 452.79it/s]\u001b[A\n",
      " 95%|█████████▍| 16283/17216 [00:33<00:02, 455.58it/s]\u001b[A"
     ]
    },
    {
     "name": "stdout",
     "output_type": "stream",
     "text": [
      "ENSG00000171864.4 single positional indexer is out-of-bounds\n",
      "ENSG00000125844.15 single positional indexer is out-of-bounds\n",
      "ENSG00000125823.12 single positional indexer is out-of-bounds\n",
      "ENSG00000125823.12 single positional indexer is out-of-bounds\n",
      "ENSG00000101439.8 single positional indexer is out-of-bounds\n",
      "ENSG00000175170.14 single positional indexer is out-of-bounds\n",
      "ENSG00000175170.14 single positional indexer is out-of-bounds\n"
     ]
    },
    {
     "name": "stderr",
     "output_type": "stream",
     "text": [
      "\n",
      " 95%|█████████▍| 16333/17216 [00:33<00:01, 465.77it/s]\u001b[A\n",
      " 95%|█████████▌| 16380/17216 [00:33<00:01, 464.48it/s]\u001b[A\n",
      " 95%|█████████▌| 16427/17216 [00:33<00:01, 462.23it/s]\u001b[A"
     ]
    },
    {
     "name": "stdout",
     "output_type": "stream",
     "text": [
      "ENSG00000186191.7 single positional indexer is out-of-bounds\n"
     ]
    },
    {
     "name": "stderr",
     "output_type": "stream",
     "text": [
      "\n",
      " 96%|█████████▌| 16475/17216 [00:33<00:01, 464.62it/s]\u001b[A\n",
      " 96%|█████████▌| 16522/17216 [00:34<00:01, 462.13it/s]\u001b[A"
     ]
    },
    {
     "name": "stdout",
     "output_type": "stream",
     "text": [
      "ENSG00000124102.4 single positional indexer is out-of-bounds\n",
      "ENSG00000124102.4 single positional indexer is out-of-bounds\n",
      "ENSG00000101448.13 single positional indexer is out-of-bounds\n"
     ]
    },
    {
     "name": "stderr",
     "output_type": "stream",
     "text": [
      "\n",
      " 96%|█████████▌| 16569/17216 [00:34<00:01, 459.99it/s]\u001b[A\n",
      " 97%|█████████▋| 16616/17216 [00:34<00:01, 457.39it/s]\u001b[A"
     ]
    },
    {
     "name": "stdout",
     "output_type": "stream",
     "text": [
      "ENSG00000124225.15 single positional indexer is out-of-bounds\n"
     ]
    },
    {
     "name": "stderr",
     "output_type": "stream",
     "text": [
      "\n",
      " 97%|█████████▋| 16662/17216 [00:35<00:03, 141.44it/s]\u001b[A\n",
      " 97%|█████████▋| 16709/17216 [00:35<00:02, 178.73it/s]\u001b[A"
     ]
    },
    {
     "name": "stdout",
     "output_type": "stream",
     "text": [
      "ENSG00000276289.4 single positional indexer is out-of-bounds\n",
      "ENSG00000155307.17 single positional indexer is out-of-bounds\n",
      "ENSG00000154645.13 single positional indexer is out-of-bounds\n",
      "ENSG00000182816.8 single positional indexer is out-of-bounds\n",
      "ENSG00000157542.9 single positional indexer is out-of-bounds\n"
     ]
    },
    {
     "name": "stderr",
     "output_type": "stream",
     "text": [
      "\n",
      " 97%|█████████▋| 16755/17216 [00:35<00:02, 218.42it/s]\u001b[A\n",
      " 98%|█████████▊| 16801/17216 [00:35<00:01, 259.24it/s]\u001b[A\n",
      " 98%|█████████▊| 16848/17216 [00:35<00:01, 299.54it/s]\u001b[A"
     ]
    },
    {
     "name": "stdout",
     "output_type": "stream",
     "text": [
      "ENSG00000175894.14 single positional indexer is out-of-bounds\n",
      "ENSG00000160310.17 single positional indexer is out-of-bounds\n",
      "ENSG00000184979.9 single positional indexer is out-of-bounds\n",
      "ENSG00000100056.11 single positional indexer is out-of-bounds\n",
      "ENSG00000128185.9 single positional indexer is out-of-bounds\n",
      "ENSG00000206140.10 single positional indexer is out-of-bounds\n"
     ]
    },
    {
     "name": "stderr",
     "output_type": "stream",
     "text": [
      "\n",
      " 98%|█████████▊| 16894/17216 [00:35<00:00, 333.51it/s]\u001b[A\n",
      " 98%|█████████▊| 16941/17216 [00:35<00:00, 364.63it/s]\u001b[A\n",
      " 99%|█████████▊| 16987/17216 [00:35<00:00, 387.65it/s]\u001b[A"
     ]
    },
    {
     "name": "stdout",
     "output_type": "stream",
     "text": [
      "ENSG00000099977.13 single positional indexer is out-of-bounds\n",
      "ENSG00000178026.12 single positional indexer is out-of-bounds\n"
     ]
    },
    {
     "name": "stderr",
     "output_type": "stream",
     "text": [
      "\n",
      " 99%|█████████▉| 17032/17216 [00:35<00:00, 402.05it/s]\u001b[A\n",
      " 99%|█████████▉| 17077/17216 [00:35<00:00, 410.63it/s]\u001b[A"
     ]
    },
    {
     "name": "stdout",
     "output_type": "stream",
     "text": [
      "ENSG00000100368.13 single positional indexer is out-of-bounds\n"
     ]
    },
    {
     "name": "stderr",
     "output_type": "stream",
     "text": [
      "\n",
      " 99%|█████████▉| 17122/17216 [00:36<00:00, 415.81it/s]\u001b[A\n",
      "100%|█████████▉| 17167/17216 [00:36<00:00, 423.98it/s]\u001b[A\n",
      "100%|██████████| 17216/17216 [00:36<00:00, 474.23it/s]\u001b[A"
     ]
    },
    {
     "name": "stdout",
     "output_type": "stream",
     "text": [
      "ENSG00000100243.20 single positional indexer is out-of-bounds\n",
      "ENSG00000188263.10 single positional indexer is out-of-bounds\n"
     ]
    },
    {
     "name": "stderr",
     "output_type": "stream",
     "text": [
      "\n"
     ]
    }
   ],
   "source": [
    "p_coloc_eqtl = []\n",
    "for p in tqdm(p_coloc):\n",
    "    try:\n",
    "        gene = p.iloc[0].gene\n",
    "        tissues = gene2eqtl_tissues.get(gene)\n",
    "        p_coloc_eqtl.append(p[p.study1.isin(tissues) & p.study2.isin(tissues)])\n",
    "    except Exception as e:\n",
    "        print(gene, e)"
   ]
  },
  {
   "cell_type": "code",
   "execution_count": 24,
   "metadata": {},
   "outputs": [],
   "source": [
    "thresh = 0.5\n",
    "\n",
    "p_coloc_any = np.array([(p.p_coloc > thresh).mean() for p in p_coloc_eqtl])\n",
    "p_coloc_top = np.array([(p.p_coloc_top > thresh).mean() for p in p_coloc_eqtl])\n",
    "p_coloc_all = np.array([(p.p_coloc_all > thresh).mean() for p in p_coloc_eqtl])\n",
    "\n",
    "fig11 = plt.figure(figsize=(14, 6), constrained_layout=False)\n",
    "gs = fig11.add_gridspec(2,3, wspace=0.5, hspace=0.2)\n",
    "\n",
    "ax = plt.subplot(gs[0, 0])\n",
    "sns.heatmap(a, cmap='Blues', vmin=0, vmax=3, ax=ax, cbar=False)\n",
    "ax.set(xlabel = 'Causal Variant', ylabel = 'Study')\n",
    "ax.set_title('Colocalization in Any Component')\n",
    "\n",
    "ax = plt.subplot(gs[0, 1])\n",
    "sns.heatmap(b, cmap='Blues', vmin=0, vmax=3, ax=ax, cbar=False)\n",
    "ax.set(xlabel = 'Causal Variant', ylabel = 'Study')\n",
    "ax.set_title('Colocalization in Top Component')\n",
    "\n",
    "ax = plt.subplot(gs[0, 2])\n",
    "sns.heatmap(c, cmap='Blues', vmin=0, vmax=3, ax=ax, cbar=False)\n",
    "ax.set(xlabel = 'Causal Variant', ylabel = 'Study')\n",
    "ax.set_title('Colocalization in All Components')\n",
    "\n",
    "ax = plt.subplot(gs[1, 0])\n",
    "ax.hist(p_coloc_any[p_coloc_any >= 0])\n",
    "ax.spines['right'].set_visible(False)\n",
    "ax.spines['top'].set_visible(False)\n",
    "ax.set(xlabel='Proportion of Expressed Tissue Pairs')\n",
    "\n",
    "ax = plt.subplot(gs[1, 1])\n",
    "ax.hist(p_coloc_top[p_coloc_top >= 0])\n",
    "ax.spines['right'].set_visible(False)\n",
    "ax.spines['top'].set_visible(False)\n",
    "ax.set(xlabel='Proportion of Expressed Tissue Pairs')\n",
    "\n",
    "bax = brokenaxes(ylims=((1, 500), (15900, 16000)), subplot_spec=gs[1, 2])\n",
    "bax.hist(p_coloc_all[p_coloc_all >= 0])\n",
    "bax.set_xlabel('Proportion of Expressed Tissue Pairs')\n",
    "plt.tight_layout()"
   ]
  },
  {
   "cell_type": "code",
   "execution_count": 63,
   "metadata": {},
   "outputs": [
    {
     "name": "stderr",
     "output_type": "stream",
     "text": [
      "/home-3/ktayeb1@jhu.edu/.conda/envs/cafeh-env/lib/python3.6/site-packages/ipykernel_launcher.py:26: RuntimeWarning: invalid value encountered in greater_equal\n",
      "/home-3/ktayeb1@jhu.edu/.conda/envs/cafeh-env/lib/python3.6/site-packages/ipykernel_launcher.py:32: RuntimeWarning: invalid value encountered in greater_equal\n",
      "/home-3/ktayeb1@jhu.edu/.conda/envs/cafeh-env/lib/python3.6/site-packages/ipykernel_launcher.py:38: RuntimeWarning: invalid value encountered in greater_equal\n",
      "/home-3/ktayeb1@jhu.edu/.conda/envs/cafeh-env/lib/python3.6/site-packages/ipykernel_launcher.py:40: UserWarning: This figure includes Axes that are not compatible with tight_layout, so results might be incorrect.\n"
     ]
    },
    {
     "data": {
      "image/png": "[encoded data removed]",
      "text/plain": [
       "<Figure size 1008x432 with 8 Axes>"
      ]
     },
     "metadata": {
      "needs_background": "light"
     },
     "output_type": "display_data"
    }
   ],
   "source": [
    "thresh = 0.9\n",
    "\n",
    "p_coloc_any = np.array([(p.p_coloc > thresh).mean() for p in p_coloc_eqtl])\n",
    "p_coloc_top = np.array([(p.p_coloc_top > thresh).mean() for p in p_coloc_eqtl])\n",
    "p_coloc_all = np.array([(p.p_coloc_all > thresh).mean() for p in p_coloc_eqtl])\n",
    "\n",
    "fig11 = plt.figure(figsize=(14, 6), constrained_layout=False)\n",
    "gs = fig11.add_gridspec(2,3, wspace=0.5, hspace=0.2)\n",
    "\n",
    "ax = plt.subplot(gs[0, 0])\n",
    "sns.heatmap(a, cmap='Blues', vmin=0, vmax=3, ax=ax, cbar=False)\n",
    "ax.set(xlabel = 'Causal Variant', ylabel = 'Study')\n",
    "ax.set_title('Colocalization in Any Component')\n",
    "\n",
    "ax = plt.subplot(gs[0, 1])\n",
    "sns.heatmap(b, cmap='Blues', vmin=0, vmax=3, ax=ax, cbar=False)\n",
    "ax.set(xlabel = 'Causal Variant', ylabel = 'Study')\n",
    "ax.set_title('Colocalization in Top Component')\n",
    "\n",
    "ax = plt.subplot(gs[0, 2])\n",
    "sns.heatmap(c, cmap='Blues', vmin=0, vmax=3, ax=ax, cbar=False)\n",
    "ax.set(xlabel = 'Causal Variant', ylabel = 'Study')\n",
    "ax.set_title('Colocalization in All Components')\n",
    "\n",
    "ax = plt.subplot(gs[1, 0])\n",
    "ax.hist(p_coloc_any[p_coloc_any >= 0])\n",
    "ax.spines['right'].set_visible(False)\n",
    "ax.spines['top'].set_visible(False)\n",
    "ax.set(xlabel='Proportion of Expressed Tissue Pairs')\n",
    "\n",
    "ax = plt.subplot(gs[1, 1])\n",
    "ax.hist(p_coloc_top[p_coloc_top >= 0])\n",
    "ax.spines['right'].set_visible(False)\n",
    "ax.spines['top'].set_visible(False)\n",
    "ax.set(xlabel='Proportion of Expressed Tissue Pairs')\n",
    "\n",
    "bax = brokenaxes(ylims=((1, 500), (15900, 16000)), subplot_spec=gs[1, 2])\n",
    "bax.hist(p_coloc_all[p_coloc_all >= 0])\n",
    "bax.set_xlabel('Proportion of Expressed Tissue Pairs')\n",
    "plt.tight_layout()"
   ]
  },
  {
   "cell_type": "markdown",
   "metadata": {},
   "source": [
    "### Allelic heterogeneity histograms"
   ]
  },
  {
   "cell_type": "code",
   "execution_count": 10,
   "metadata": {},
   "outputs": [],
   "source": [
    "def generate_coloc_table2(gene):\n",
    "    m = load_model(gene, decompress=False)\n",
    "    coloc_table = pd.DataFrame(m.active, index=m.study_ids).reset_index().melt(id_vars='index')\n",
    "    coloc_table.loc[:, 'gene'] = gene\n",
    "    coloc_table.rename(columns={'index': 'tissue', 'variable': 'component'}, inplace=True)\n",
    "    return(coloc_table)"
   ]
  },
  {
   "cell_type": "code",
   "execution_count": null,
   "metadata": {},
   "outputs": [],
   "source": [
    "if not os.path.isfile('component_coloc.pkl'):\n",
    "    for gene in tqdm(list(gene2path.keys())):\n",
    "        try:\n",
    "            d = generte_coloc_table2(gene)\n",
    "            component_coloc.append(d)\n",
    "        except Exception as e:\n",
    "            print(gene)\n",
    "    pickle.dump(component_coloc, open('component_coloc.pkl', 'wb'))\n",
    "\n",
    "component_coloc = pickle.load(open('component_coloc.pkl', 'rb'))"
   ]
  },
  {
   "cell_type": "code",
   "execution_count": 25,
   "metadata": {},
   "outputs": [
    {
     "name": "stderr",
     "output_type": "stream",
     "text": [
      "100%|██████████| 17985/17985 [02:50<00:00, 105.51it/s]\n"
     ]
    }
   ],
   "source": [
    "components_per_tissue = {}\n",
    "for d in tqdm(component_coloc):\n",
    "    try:\n",
    "        gene = d.iloc[0].gene\n",
    "        components_per_tissue[gene] = \\\n",
    "            d[d.value > 0.5].groupby('tissue').component.apply(lambda x: np.unique(x).size)\n",
    "    except Exception as e:\n",
    "        continue"
   ]
  },
  {
   "cell_type": "code",
   "execution_count": 26,
   "metadata": {},
   "outputs": [],
   "source": [
    "cpt = pd.concat(components_per_tissue)"
   ]
  },
  {
   "cell_type": "code",
   "execution_count": 37,
   "metadata": {},
   "outputs": [
    {
     "data": {
      "text/plain": [
       "Text(0.5, 0, 'Components')"
      ]
     },
     "execution_count": 37,
     "metadata": {},
     "output_type": "execute_result"
    },
    {
     "data": {
      "image/png": "[encoded data removed]",
      "text/plain": [
       "<Figure size 432x288 with 1 Axes>"
      ]
     },
     "metadata": {
      "needs_background": "light"
     },
     "output_type": "display_data"
    }
   ],
   "source": [
    "plt.hist(cpt, bins=16)\n",
    "plt.title('CAFEH Components per Gene, Tissue', size=16)\n",
    "plt.xlabel('Components', size=16)"
   ]
  },
  {
   "cell_type": "code",
   "execution_count": 43,
   "metadata": {},
   "outputs": [
    {
     "name": "stderr",
     "output_type": "stream",
     "text": [
      "100%|██████████| 17985/17985 [00:25<00:00, 697.27it/s]\n"
     ]
    }
   ],
   "source": [
    "components_per_gene = {}\n",
    "for d in tqdm(component_coloc):\n",
    "    try:\n",
    "        gene = d.iloc[0].gene\n",
    "        components_per_gene[gene] = d[d.value > 0.5].component.unique().size\n",
    "    except Exception as e:\n",
    "        continue"
   ]
  },
  {
   "cell_type": "code",
   "execution_count": 45,
   "metadata": {},
   "outputs": [
    {
     "data": {
      "text/plain": [
       "Text(0.5, 0, 'Components')"
      ]
     },
     "execution_count": 45,
     "metadata": {},
     "output_type": "execute_result"
    },
    {
     "data": {
      "image/png": "[encoded data removed]",
      "text/plain": [
       "<Figure size 432x288 with 1 Axes>"
      ]
     },
     "metadata": {
      "needs_background": "light"
     },
     "output_type": "display_data"
    }
   ],
   "source": [
    "plt.hist(pd.Series(components_per_gene), bins=20)\n",
    "plt.title('CAFEH Components per Gene', size=16)\n",
    "plt.xlabel('Components', size=16)"
   ]
  },
  {
   "cell_type": "code",
   "execution_count": 17,
   "metadata": {},
   "outputs": [
    {
     "name": "stderr",
     "output_type": "stream",
     "text": [
      "100%|██████████| 100/100 [00:22<00:00,  4.47it/s]\n"
     ]
    }
   ],
   "source": [
    "components_per_tissue = {}\n",
    "tissues_per_component = {}\n",
    "total_components = {}\n",
    "num_tissues = {}\n",
    "THRESH = 0.99\n",
    "\n",
    "for gene in tqdm(list(gene2path.keys())[:100]):\n",
    "    df = load_active(gene2path.get(gene))\n",
    "    dfna = df.dropna()\n",
    "    components_per_tissue[gene] = pd.Series((dfna.values > THRESH).sum(1), index=dfna.index)\n",
    "    tissues_per_component[gene] = pd.Series((dfna.values > THRESH).sum(0))\n",
    "    total_components[gene] = ((dfna.values > THRESH).sum(0) > 0).sum()\n",
    "    num_tissues[gene] = dfna.shape[0]"
   ]
  },
  {
   "cell_type": "code",
   "execution_count": 18,
   "metadata": {},
   "outputs": [
    {
     "data": {
      "text/plain": [
       "Text(0.5, 0, 'Components')"
      ]
     },
     "execution_count": 18,
     "metadata": {},
     "output_type": "execute_result"
    },
    {
     "data": {
      "image/png": "[encoded data removed]",
      "text/plain": [
       "<Figure size 360x576 with 2 Axes>"
      ]
     },
     "metadata": {
      "needs_background": "light"
     },
     "output_type": "display_data"
    }
   ],
   "source": [
    "tissues_per_component = pd.DataFrame(tissues_per_component)\n",
    "components_per_tissue = pd.DataFrame(components_per_tissue)\n",
    "\n",
    "cpt = components_per_tissue.values.flatten()\n",
    "fig, ax = plt.subplots(2, 1, figsize=(5, 8))\n",
    "\n",
    "ax[1].hist(cpt[~np.isnan(cpt)], bins=np.arange(20));\n",
    "ax[1].set_title('Active components per tissue')\n",
    "\n",
    "ax[0].hist(total_components.values());\n",
    "ax[0].set_title('Active components per gene')\n",
    "ax[1].set_xlabel('Components')"
   ]
  },
  {
   "cell_type": "code",
   "execution_count": null,
   "metadata": {},
   "outputs": [],
   "source": []
  }
 ],
 "metadata": {
  "kernelspec": {
   "display_name": "Python [conda env:cafeh-env]",
   "language": "python",
   "name": "conda-env-cafeh-env-py"
  },
  "language_info": {
   "codemirror_mode": {
    "name": "ipython",
    "version": 3
   },
   "file_extension": ".py",
   "mimetype": "text/x-python",
   "name": "python",
   "nbconvert_exporter": "python",
   "pygments_lexer": "ipython3",
   "version": "3.6.10"
  }
 },
 "nbformat": 4,
 "nbformat_minor": 2
}
